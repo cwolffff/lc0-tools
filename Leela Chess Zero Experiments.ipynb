{
 "cells": [
  {
   "cell_type": "code",
   "execution_count": 1,
   "id": "055cedb7",
   "metadata": {},
   "outputs": [
    {
     "name": "stdout",
     "output_type": "stream",
     "text": [
      "Ready.\n"
     ]
    }
   ],
   "source": [
    "print(\"Ready.\")"
   ]
  },
  {
   "cell_type": "code",
   "execution_count": 2,
   "id": "213f6950",
   "metadata": {},
   "outputs": [],
   "source": [
    "import os\n",
    "import signal\n",
    "\n",
    "import chess\n",
    "import chess.engine\n",
    "import chess.pgn\n",
    "import chess.polyglot"
   ]
  },
  {
   "cell_type": "code",
   "execution_count": 3,
   "id": "9e6f836c",
   "metadata": {},
   "outputs": [],
   "source": [
    "LC0_PATH = \"/opt/homebrew/bin/lc0\"\n",
    "POLYGLOT_PATH = \"./data/polyglot/codekiddy.bin\""
   ]
  },
  {
   "cell_type": "markdown",
   "id": "734a65cc",
   "metadata": {},
   "source": [
    "## Playground"
   ]
  },
  {
   "cell_type": "code",
   "execution_count": 4,
   "id": "1b2acbaa",
   "metadata": {},
   "outputs": [],
   "source": [
    "def get_db_moves(board, min_games):\n",
    "    moves = []\n",
    "    with chess.polyglot.open_reader(POLYGLOT_PATH) as reader:\n",
    "        for entry in reader.find_all(board):\n",
    "            if entry.weight >= min_games:\n",
    "                moves.append(entry.move)\n",
    "    return moves"
   ]
  },
  {
   "cell_type": "code",
   "execution_count": 5,
   "id": "52f3992b",
   "metadata": {},
   "outputs": [],
   "source": [
    "def dfs(node, min_games):\n",
    "    moves = get_db_moves(node.board(), min_games)\n",
    "    for move in moves:\n",
    "        next_node = node.add_variation(move)\n",
    "        dfs(next_node, min_games)\n",
    "\n",
    "game = chess.pgn.Game()\n",
    "dfs(game, min_games=500)"
   ]
  },
  {
   "cell_type": "code",
   "execution_count": 6,
   "id": "1507c0c2",
   "metadata": {},
   "outputs": [
    {
     "name": "stdout",
     "output_type": "stream",
     "text": [
      "[Event \"?\"]\n",
      "[Site \"?\"]\n",
      "[Date \"????.??.??\"]\n",
      "[Round \"?\"]\n",
      "[White \"?\"]\n",
      "[Black \"?\"]\n",
      "[Result \"*\"]\n",
      "\n",
      "1. e4 ( 1. d4 Nf6 ( 1... d5 2. c4 ( 2. Nf3 Nf6 ( 2... c6 3. c4 Nf6 4. Nc3 ( 4. e3 Bf5 5. Nc3 e6 6. Nh4 ) ( 4. Qc2 ) ( 4. Qb3 ) 4... e6 ( 4... dxc4 5. a4 Bf5 6. Ne5 ( 6. e3 e6 7. Bxc4 Bb4 8. O-O ) ) ( 4... a6 5. c5 ( 5. e3 ) ) 5. e3 ( 5. Bg5 h6 6. Bxf6 ( 6. Bh4 ) 6... Qxf6 ) 5... Nbd7 6. Qc2 ( 6. Bd3 dxc4 7. Bxc4 b5 8. Bd3 ) 6... Bd6 7. Bd3 ) 3. c4 e6 ( 3... c6 4. Nc3 ( 4. e3 Bf5 5. Nc3 e6 6. Nh4 ) ( 4. Qc2 ) ( 4. Qb3 ) 4... e6 ( 4... dxc4 5. a4 Bf5 6. Ne5 ( 6. e3 e6 7. Bxc4 Bb4 8. O-O ) ) ( 4... a6 5. c5 ( 5. e3 ) ) 5. e3 ( 5. Bg5 h6 6. Bxf6 ( 6. Bh4 ) 6... Qxf6 ) 5... Nbd7 6. Qc2 ( 6. Bd3 dxc4 7. Bxc4 b5 8. Bd3 ) 6... Bd6 7. Bd3 ) ( 3... dxc4 4. e3 e6 5. Bxc4 c5 6. O-O a6 ) 4. Nc3 ( 4. g3 dxc4 ( 4... Bb4+ 5. Bd2 ) 5. Bg2 ) ( 4. Bg5 ) 4... Be7 ( 4... c6 5. e3 ( 5. Bg5 h6 6. Bxf6 ( 6. Bh4 ) 6... Qxf6 ) 5... Nbd7 6. Qc2 ( 6. Bd3 dxc4 7. Bxc4 b5 8. Bd3 ) 6... Bd6 7. Bd3 ) ( 4... Bb4 5. cxd5 ( 5. Bg5 ) ) ( 4... Nbd7 ) ( 4... dxc4 ) 5. Bg5 ( 5. Bf4 O-O 6. e3 ) 5... h6 ( 5... O-O 6. e3 ) 6. Bh4 ) 2... c6 ( 2... e6 3. Nc3 ( 3. Nf3 Nf6 ( 3... c6 4. Qc2 ( 4. e3 ) ) 4. Nc3 ( 4. g3 dxc4 ( 4... Bb4+ 5. Bd2 ) 5. Bg2 ) ( 4. Bg5 ) 4... Be7 ( 4... c6 5. e3 ( 5. Bg5 h6 6. Bxf6 ( 6. Bh4 ) 6... Qxf6 ) 5... Nbd7 6. Qc2 ( 6. Bd3 dxc4 7. Bxc4 b5 8. Bd3 ) 6... Bd6 7. Bd3 ) ( 4... Bb4 5. cxd5 ( 5. Bg5 ) ) ( 4... Nbd7 ) ( 4... dxc4 ) 5. Bg5 ( 5. Bf4 O-O 6. e3 ) 5... h6 ( 5... O-O 6. e3 ) 6. Bh4 ) 3... c6 ( 3... Nf6 4. cxd5 ( 4. Bg5 Be7 5. e3 ) ( 4. Nf3 Be7 ( 4... c6 5. e3 ( 5. Bg5 h6 6. Bxf6 ( 6. Bh4 ) 6... Qxf6 ) 5... Nbd7 6. Qc2 ( 6. Bd3 dxc4 7. Bxc4 b5 8. Bd3 ) 6... Bd6 7. Bd3 ) ( 4... Bb4 5. cxd5 ( 5. Bg5 ) ) ( 4... Nbd7 ) ( 4... dxc4 ) 5. Bg5 ( 5. Bf4 O-O 6. e3 ) 5... h6 ( 5... O-O 6. e3 ) 6. Bh4 ) 4... exd5 5. Bg5 ) ( 3... Be7 4. Nf3 ( 4. cxd5 ) ) 4. e3 ( 4. Nf3 ) 4... Nf6 5. Nf3 Nbd7 6. Qc2 ( 6. Bd3 dxc4 7. Bxc4 b5 8. Bd3 ) 6... Bd6 7. Bd3 ) ( 2... dxc4 3. Nf3 ( 3. e4 ) ( 3. e3 ) 3... Nf6 4. e3 e6 5. Bxc4 c5 6. O-O a6 ) 3. Nf3 ( 3. Nc3 Nf6 4. e3 ( 4. Nf3 e6 ( 4... dxc4 5. a4 Bf5 6. Ne5 ( 6. e3 e6 7. Bxc4 Bb4 8. O-O ) ) ( 4... a6 5. c5 ( 5. e3 ) ) 5. e3 ( 5. Bg5 h6 6. Bxf6 ( 6. Bh4 ) 6... Qxf6 ) 5... Nbd7 6. Qc2 ( 6. Bd3 dxc4 7. Bxc4 b5 8. Bd3 ) 6... Bd6 7. Bd3 ) 4... e6 5. Nf3 Nbd7 6. Qc2 ( 6. Bd3 dxc4 7. Bxc4 b5 8. Bd3 ) 6... Bd6 7. Bd3 ) ( 3. e3 ) ( 3. cxd5 cxd5 ) 3... Nf6 4. Nc3 ( 4. e3 Bf5 5. Nc3 e6 6. Nh4 ) ( 4. Qc2 ) ( 4. Qb3 ) 4... e6 ( 4... dxc4 5. a4 Bf5 6. Ne5 ( 6. e3 e6 7. Bxc4 Bb4 8. O-O ) ) ( 4... a6 5. c5 ( 5. e3 ) ) 5. e3 ( 5. Bg5 h6 6. Bxf6 ( 6. Bh4 ) 6... Qxf6 ) 5... Nbd7 6. Qc2 ( 6. Bd3 dxc4 7. Bxc4 b5 8. Bd3 ) 6... Bd6 7. Bd3 ) ( 1... e6 2. c4 ( 2. Nf3 ) ( 2. e4 d5 3. Nc3 ( 3. Nd2 Nf6 ( 3... c5 4. exd5 ( 4. Ngf3 ) ) ( 3... Be7 ) 4. e5 Nfd7 5. Bd3 ( 5. c3 ) 5... c5 6. c3 Nc6 7. Ne2 cxd4 8. cxd4 f6 9. exf6 ) ( 3. e5 c5 4. c3 Nc6 5. Nf3 Bd7 ) ( 3. exd5 exd5 ) 3... Bb4 ( 3... Nf6 4. Bg5 ( 4. e5 Nfd7 5. f4 c5 6. Nf3 Nc6 7. Be3 ) 4... dxe4 ( 4... Bb4 5. e5 ) ( 4... Be7 5. e5 ) 5. Nxe4 Be7 6. Bxf6 ) 4. e5 c5 ( 4... Ne7 5. a3 Bxc3+ 6. bxc3 ) 5. a3 Bxc3+ 6. bxc3 Ne7 7. Qg4 ( 7. Nf3 ) ) 2... Nf6 ( 2... f5 3. g3 ) ( 2... b6 ) 3. Nc3 ( 3. Nf3 b6 ( 3... d5 4. Nc3 ( 4. g3 dxc4 ( 4... Bb4+ 5. Bd2 ) 5. Bg2 ) ( 4. Bg5 ) 4... Be7 ( 4... c6 5. e3 ( 5. Bg5 h6 6. Bxf6 ( 6. Bh4 ) 6... Qxf6 ) 5... Nbd7 6. Qc2 ( 6. Bd3 dxc4 7. Bxc4 b5 8. Bd3 ) 6... Bd6 7. Bd3 ) ( 4... Bb4 5. cxd5 ( 5. Bg5 ) ) ( 4... Nbd7 ) ( 4... dxc4 ) 5. Bg5 ( 5. Bf4 O-O 6. e3 ) 5... h6 ( 5... O-O 6. e3 ) 6. Bh4 ) ( 3... Bb4+ 4. Bd2 ( 4. Nbd2 ) 4... Qe7 5. g3 ) ( 3... c5 4. d5 exd5 5. cxd5 d6 6. Nc3 g6 7. Bf4 ( 7. Nd2 ) ) 4. g3 ( 4. a3 Bb7 5. Nc3 d5 6. cxd5 ) ( 4. Nc3 Bb7 5. a3 d5 6. cxd5 ) ( 4. e3 ) 4... Ba6 ( 4... Bb7 5. Bg2 Be7 6. O-O ( 6. Nc3 ) 6... O-O 7. Nc3 ) 5. b3 Bb4+ 6. Bd2 Be7 7. Bg2 ) ( 3. g3 d5 ( 3... c5 ) 4. Bg2 ( 4. Nf3 dxc4 ( 4... Bb4+ 5. Bd2 ) 5. Bg2 ) ) 3... Bb4 ( 3... d5 4. cxd5 ( 4. Bg5 Be7 5. e3 ) ( 4. Nf3 Be7 ( 4... c6 5. e3 ( 5. Bg5 h6 6. Bxf6 ( 6. Bh4 ) 6... Qxf6 ) 5... Nbd7 6. Qc2 ( 6. Bd3 dxc4 7. Bxc4 b5 8. Bd3 ) 6... Bd6 7. Bd3 ) ( 4... Bb4 5. cxd5 ( 5. Bg5 ) ) ( 4... Nbd7 ) ( 4... dxc4 ) 5. Bg5 ( 5. Bf4 O-O 6. e3 ) 5... h6 ( 5... O-O 6. e3 ) 6. Bh4 ) 4... exd5 5. Bg5 ) 4. e3 ( 4. Qc2 O-O ( 4... c5 5. dxc5 ) ( 4... d5 5. cxd5 ) 5. a3 Bxc3+ 6. Qxc3 b6 7. Bg5 ) ( 4. Nf3 ) ( 4. f3 ) 4... O-O ( 4... c5 5. Bd3 ( 5. Ne2 ) ) ( 4... b6 5. Ne2 ) 5. Bd3 ( 5. Ne2 d5 ) 5... d5 6. Nf3 c5 7. O-O ) 2. c4 ( 2. Nf3 g6 ( 2... e6 3. c4 ( 3. g3 ) ( 3. e3 b6 4. Bd3 ) ( 3. Bg5 h6 ) 3... b6 ( 3... d5 4. Nc3 ( 4. g3 dxc4 ( 4... Bb4+ 5. Bd2 ) 5. Bg2 ) ( 4. Bg5 ) 4... Be7 ( 4... c6 5. e3 ( 5. Bg5 h6 6. Bxf6 ( 6. Bh4 ) 6... Qxf6 ) 5... Nbd7 6. Qc2 ( 6. Bd3 dxc4 7. Bxc4 b5 8. Bd3 ) 6... Bd6 7. Bd3 ) ( 4... Bb4 5. cxd5 ( 5. Bg5 ) ) ( 4... Nbd7 ) ( 4... dxc4 ) 5. Bg5 ( 5. Bf4 O-O 6. e3 ) 5... h6 ( 5... O-O 6. e3 ) 6. Bh4 ) ( 3... Bb4+ 4. Bd2 ( 4. Nbd2 ) 4... Qe7 5. g3 ) ( 3... c5 4. d5 exd5 5. cxd5 d6 6. Nc3 g6 7. Bf4 ( 7. Nd2 ) ) 4. g3 ( 4. a3 Bb7 5. Nc3 d5 6. cxd5 ) ( 4. Nc3 Bb7 5. a3 d5 6. cxd5 ) ( 4. e3 ) 4... Ba6 ( 4... Bb7 5. Bg2 Be7 6. O-O ( 6. Nc3 ) 6... O-O 7. Nc3 ) 5. b3 Bb4+ 6. Bd2 Be7 7. Bg2 ) ( 2... d5 3. c4 e6 ( 3... c6 4. Nc3 ( 4. e3 Bf5 5. Nc3 e6 6. Nh4 ) ( 4. Qc2 ) ( 4. Qb3 ) 4... e6 ( 4... dxc4 5. a4 Bf5 6. Ne5 ( 6. e3 e6 7. Bxc4 Bb4 8. O-O ) ) ( 4... a6 5. c5 ( 5. e3 ) ) 5. e3 ( 5. Bg5 h6 6. Bxf6 ( 6. Bh4 ) 6... Qxf6 ) 5... Nbd7 6. Qc2 ( 6. Bd3 dxc4 7. Bxc4 b5 8. Bd3 ) 6... Bd6 7. Bd3 ) ( 3... dxc4 4. e3 e6 5. Bxc4 c5 6. O-O a6 ) 4. Nc3 ( 4. g3 dxc4 ( 4... Bb4+ 5. Bd2 ) 5. Bg2 ) ( 4. Bg5 ) 4... Be7 ( 4... c6 5. e3 ( 5. Bg5 h6 6. Bxf6 ( 6. Bh4 ) 6... Qxf6 ) 5... Nbd7 6. Qc2 ( 6. Bd3 dxc4 7. Bxc4 b5 8. Bd3 ) 6... Bd6 7. Bd3 ) ( 4... Bb4 5. cxd5 ( 5. Bg5 ) ) ( 4... Nbd7 ) ( 4... dxc4 ) 5. Bg5 ( 5. Bf4 O-O 6. e3 ) 5... h6 ( 5... O-O 6. e3 ) 6. Bh4 ) ( 2... c5 3. d5 ) 3. c4 ( 3. g3 Bg7 4. Bg2 O-O 5. O-O d6 6. c4 Nbd7 ( 6... Nc6 7. Nc3 a6 ) 7. Nc3 e5 8. e4 ) ( 3. Bg5 Bg7 4. Nbd2 ) ( 3. Bf4 Bg7 ) 3... Bg7 4. g3 ( 4. Nc3 O-O ( 4... d5 5. Qb3 ( 5. cxd5 ) ( 5. Bg5 ) 5... dxc4 6. Qxc4 O-O 7. e4 ) 5. e4 ( 5. Bg5 ) 5... d6 6. Be2 ( 6. h3 ) 6... e5 ( 6... Nbd7 ) 7. O-O ( 7. Be3 ) ( 7. d5 ) 7... Nc6 8. d5 Ne7 9. b4 ( 9. Ne1 Nd7 ) ( 9. Nd2 ) ) 4... O-O 5. Bg2 d6 6. O-O ( 6. Nc3 Nc6 ( 6... Nbd7 7. O-O e5 8. e4 ) 7. O-O a6 ) 6... Nbd7 ( 6... Nc6 7. Nc3 a6 ) 7. Nc3 e5 8. e4 ) ( 2. Bg5 Ne4 ( 2... e6 ) ( 2... d5 ) 3. Bf4 ) 2... e6 ( 2... g6 3. Nc3 ( 3. g3 Bg7 4. Bg2 O-O 5. Nc3 d6 6. Nf3 Nc6 ( 6... Nbd7 7. O-O e5 8. e4 ) 7. O-O a6 ) ( 3. Nf3 Bg7 4. g3 ( 4. Nc3 O-O ( 4... d5 5. Qb3 ( 5. cxd5 ) ( 5. Bg5 ) 5... dxc4 6. Qxc4 O-O 7. e4 ) 5. e4 ( 5. Bg5 ) 5... d6 6. Be2 ( 6. h3 ) 6... e5 ( 6... Nbd7 ) 7. O-O ( 7. Be3 ) ( 7. d5 ) 7... Nc6 8. d5 Ne7 9. b4 ( 9. Ne1 Nd7 ) ( 9. Nd2 ) ) 4... O-O 5. Bg2 d6 6. O-O ( 6. Nc3 Nc6 ( 6... Nbd7 7. O-O e5 8. e4 ) 7. O-O a6 ) 6... Nbd7 ( 6... Nc6 7. Nc3 a6 ) 7. Nc3 e5 8. e4 ) 3... Bg7 ( 3... d5 4. cxd5 ( 4. Nf3 Bg7 5. Qb3 ( 5. cxd5 ) ( 5. Bg5 ) 5... dxc4 6. Qxc4 O-O 7. e4 ) ( 4. Bf4 ) ( 4. Bg5 ) 4... Nxd5 5. e4 Nxc3 6. bxc3 Bg7 7. Bc4 ( 7. Nf3 c5 8. Rb1 ) 7... c5 8. Ne2 ) 4. e4 ( 4. Nf3 O-O ( 4... d5 5. Qb3 ( 5. cxd5 ) ( 5. Bg5 ) 5... dxc4 6. Qxc4 O-O 7. e4 ) 5. e4 ( 5. Bg5 ) 5... d6 6. Be2 ( 6. h3 ) 6... e5 ( 6... Nbd7 ) 7. O-O ( 7. Be3 ) ( 7. d5 ) 7... Nc6 8. d5 Ne7 9. b4 ( 9. Ne1 Nd7 ) ( 9. Nd2 ) ) 4... d6 ( 4... O-O ) 5. Nf3 ( 5. Be2 O-O 6. Nf3 ( 6. Bg5 ) 6... e5 ( 6... Nbd7 ) 7. O-O ( 7. Be3 ) ( 7. d5 ) 7... Nc6 8. d5 Ne7 9. b4 ( 9. Ne1 Nd7 ) ( 9. Nd2 ) ) ( 5. f3 O-O 6. Be3 ( 6. Bg5 ) ( 6. Nge2 ) ) ( 5. h3 ) ( 5. f4 ) ( 5. Bd3 ) 5... O-O 6. Be2 ( 6. h3 ) 6... e5 ( 6... Nbd7 ) 7. O-O ( 7. Be3 ) ( 7. d5 ) 7... Nc6 8. d5 Ne7 9. b4 ( 9. Ne1 Nd7 ) ( 9. Nd2 ) ) ( 2... c5 3. d5 ( 3. Nf3 cxd4 4. Nxd4 ) 3... b5 ( 3... e6 4. Nc3 exd5 5. cxd5 d6 6. e4 ( 6. Nf3 g6 7. Bf4 ( 7. Nd2 ) ) 6... g6 ) ( 3... g6 4. Nc3 ) 4. cxb5 ( 4. Nf3 ) 4... a6 5. bxa6 ) ( 2... d6 3. Nc3 ( 3. Nf3 g6 4. Nc3 ) 3... Nbd7 ) 3. Nc3 ( 3. Nf3 b6 ( 3... d5 4. Nc3 ( 4. g3 dxc4 ( 4... Bb4+ 5. Bd2 ) 5. Bg2 ) ( 4. Bg5 ) 4... Be7 ( 4... c6 5. e3 ( 5. Bg5 h6 6. Bxf6 ( 6. Bh4 ) 6... Qxf6 ) 5... Nbd7 6. Qc2 ( 6. Bd3 dxc4 7. Bxc4 b5 8. Bd3 ) 6... Bd6 7. Bd3 ) ( 4... Bb4 5. cxd5 ( 5. Bg5 ) ) ( 4... Nbd7 ) ( 4... dxc4 ) 5. Bg5 ( 5. Bf4 O-O 6. e3 ) 5... h6 ( 5... O-O 6. e3 ) 6. Bh4 ) ( 3... Bb4+ 4. Bd2 ( 4. Nbd2 ) 4... Qe7 5. g3 ) ( 3... c5 4. d5 exd5 5. cxd5 d6 6. Nc3 g6 7. Bf4 ( 7. Nd2 ) ) 4. g3 ( 4. a3 Bb7 5. Nc3 d5 6. cxd5 ) ( 4. Nc3 Bb7 5. a3 d5 6. cxd5 ) ( 4. e3 ) 4... Ba6 ( 4... Bb7 5. Bg2 Be7 6. O-O ( 6. Nc3 ) 6... O-O 7. Nc3 ) 5. b3 Bb4+ 6. Bd2 Be7 7. Bg2 ) ( 3. g3 d5 ( 3... c5 ) 4. Bg2 ( 4. Nf3 dxc4 ( 4... Bb4+ 5. Bd2 ) 5. Bg2 ) ) 3... Bb4 ( 3... d5 4. cxd5 ( 4. Bg5 Be7 5. e3 ) ( 4. Nf3 Be7 ( 4... c6 5. e3 ( 5. Bg5 h6 6. Bxf6 ( 6. Bh4 ) 6... Qxf6 ) 5... Nbd7 6. Qc2 ( 6. Bd3 dxc4 7. Bxc4 b5 8. Bd3 ) 6... Bd6 7. Bd3 ) ( 4... Bb4 5. cxd5 ( 5. Bg5 ) ) ( 4... Nbd7 ) ( 4... dxc4 ) 5. Bg5 ( 5. Bf4 O-O 6. e3 ) 5... h6 ( 5... O-O 6. e3 ) 6. Bh4 ) 4... exd5 5. Bg5 ) 4. e3 ( 4. Qc2 O-O ( 4... c5 5. dxc5 ) ( 4... d5 5. cxd5 ) 5. a3 Bxc3+ 6. Qxc3 b6 7. Bg5 ) ( 4. Nf3 ) ( 4. f3 ) 4... O-O ( 4... c5 5. Bd3 ( 5. Ne2 ) ) ( 4... b6 5. Ne2 ) 5. Bd3 ( 5. Ne2 d5 ) 5... d5 6. Nf3 c5 7. O-O ) ( 1. Nf3 Nf6 ( 1... d5 2. g3 ( 2. d4 Nf6 ( 2... c6 3. c4 Nf6 4. Nc3 ( 4. e3 Bf5 5. Nc3 e6 6. Nh4 ) ( 4. Qc2 ) ( 4. Qb3 ) 4... e6 ( 4... dxc4 5. a4 Bf5 6. Ne5 ( 6. e3 e6 7. Bxc4 Bb4 8. O-O ) ) ( 4... a6 5. c5 ( 5. e3 ) ) 5. e3 ( 5. Bg5 h6 6. Bxf6 ( 6. Bh4 ) 6... Qxf6 ) 5... Nbd7 6. Qc2 ( 6. Bd3 dxc4 7. Bxc4 b5 8. Bd3 ) 6... Bd6 7. Bd3 ) 3. c4 e6 ( 3... c6 4. Nc3 ( 4. e3 Bf5 5. Nc3 e6 6. Nh4 ) ( 4. Qc2 ) ( 4. Qb3 ) 4... e6 ( 4... dxc4 5. a4 Bf5 6. Ne5 ( 6. e3 e6 7. Bxc4 Bb4 8. O-O ) ) ( 4... a6 5. c5 ( 5. e3 ) ) 5. e3 ( 5. Bg5 h6 6. Bxf6 ( 6. Bh4 ) 6... Qxf6 ) 5... Nbd7 6. Qc2 ( 6. Bd3 dxc4 7. Bxc4 b5 8. Bd3 ) 6... Bd6 7. Bd3 ) ( 3... dxc4 4. e3 e6 5. Bxc4 c5 6. O-O a6 ) 4. Nc3 ( 4. g3 dxc4 ( 4... Bb4+ 5. Bd2 ) 5. Bg2 ) ( 4. Bg5 ) 4... Be7 ( 4... c6 5. e3 ( 5. Bg5 h6 6. Bxf6 ( 6. Bh4 ) 6... Qxf6 ) 5... Nbd7 6. Qc2 ( 6. Bd3 dxc4 7. Bxc4 b5 8. Bd3 ) 6... Bd6 7. Bd3 ) ( 4... Bb4 5. cxd5 ( 5. Bg5 ) ) ( 4... Nbd7 ) ( 4... dxc4 ) 5. Bg5 ( 5. Bf4 O-O 6. e3 ) 5... h6 ( 5... O-O 6. e3 ) 6. Bh4 ) ( 2. c4 c6 ( 2... e6 3. g3 ( 3. d4 Nf6 ( 3... c6 4. Qc2 ( 4. e3 ) ) 4. Nc3 ( 4. g3 dxc4 ( 4... Bb4+ 5. Bd2 ) 5. Bg2 ) ( 4. Bg5 ) 4... Be7 ( 4... c6 5. e3 ( 5. Bg5 h6 6. Bxf6 ( 6. Bh4 ) 6... Qxf6 ) 5... Nbd7 6. Qc2 ( 6. Bd3 dxc4 7. Bxc4 b5 8. Bd3 ) 6... Bd6 7. Bd3 ) ( 4... Bb4 5. cxd5 ( 5. Bg5 ) ) ( 4... Nbd7 ) ( 4... dxc4 ) 5. Bg5 ( 5. Bf4 O-O 6. e3 ) 5... h6 ( 5... O-O 6. e3 ) 6. Bh4 ) ) ( 2... d4 ) 3. e3 ( 3. d4 Nf6 4. Nc3 ( 4. e3 Bf5 5. Nc3 e6 6. Nh4 ) ( 4. Qc2 ) ( 4. Qb3 ) 4... e6 ( 4... dxc4 5. a4 Bf5 6. Ne5 ( 6. e3 e6 7. Bxc4 Bb4 8. O-O ) ) ( 4... a6 5. c5 ( 5. e3 ) ) 5. e3 ( 5. Bg5 h6 6. Bxf6 ( 6. Bh4 ) 6... Qxf6 ) 5... Nbd7 6. Qc2 ( 6. Bd3 dxc4 7. Bxc4 b5 8. Bd3 ) 6... Bd6 7. Bd3 ) ) 2... c6 ( 2... Nf6 3. Bg2 c6 4. O-O Bg4 ) 3. Bg2 Bg4 ) ( 1... c5 2. c4 ( 2. g3 ) ( 2. e4 d6 ( 2... e6 3. d4 ( 3. Nc3 a6 4. d4 cxd4 5. Nxd4 Qc7 ( 5... b5 6. Bd3 ) 6. Bd3 ) ( 3. d3 Nc6 4. g3 ) ( 3. c3 Nf6 ( 3... d5 ) ) ( 3. b3 ) 3... cxd4 4. Nxd4 a6 ( 4... Nc6 5. Nc3 ( 5. Nb5 d6 ) 5... Qc7 ( 5... a6 ) ( 5... d6 ) 6. Be3 ( 6. Be2 a6 7. O-O Nf6 8. Be3 ) ( 6. g3 a6 7. Bg2 ) 6... a6 7. Qd2 Nf6 8. O-O-O ) ( 4... Nf6 5. Nc3 d6 ( 5... Nc6 6. Ndb5 ) 6. g4 ( 6. Be2 ) ( 6. Be3 ) ) 5. Bd3 ( 5. Nc3 Qc7 ( 5... b5 6. Bd3 ) 6. Bd3 ) ( 5. c4 ) 5... Bc5 ( 5... Nf6 6. O-O ) 6. Nb3 Be7 ) ( 2... Nc6 3. d4 ( 3. Bb5 g6 ( 3... e6 4. O-O Nge7 ) ( 3... d6 4. O-O Bd7 5. Re1 ) 4. O-O ( 4. Bxc6 ) 4... Bg7 5. c3 ( 5. Re1 ) ) ( 3. Nc3 ) ( 3. c3 ) 3... cxd4 4. Nxd4 Nf6 ( 4... g6 5. c4 ( 5. Nc3 Bg7 6. Be3 Nf6 7. Bc4 O-O 8. Bb3 ) ) ( 4... e6 5. Nc3 ( 5. Nb5 d6 ) 5... Qc7 ( 5... a6 ) ( 5... d6 ) 6. Be3 ( 6. Be2 a6 7. O-O Nf6 8. Be3 ) ( 6. g3 a6 7. Bg2 ) 6... a6 7. Qd2 Nf6 8. O-O-O ) ( 4... e5 5. Nb5 d6 ) ( 4... Qc7 5. Nc3 e6 6. Be3 ( 6. Be2 a6 7. O-O Nf6 8. Be3 ) ( 6. g3 a6 7. Bg2 ) 6... a6 7. Qd2 Nf6 8. O-O-O ) ( 4... Qb6 ) 5. Nc3 d6 ( 5... e5 6. Ndb5 d6 7. Bg5 a6 8. Na3 b5 9. Nd5 ( 9. Bxf6 gxf6 10. Nd5 f5 ) 9... Be7 10. Bxf6 Bxf6 11. c3 ) 6. Bg5 ( 6. Bc4 e6 ( 6... Qb6 ) 7. Be3 ) ( 6. Be2 e5 ) 6... e6 7. Qd2 a6 ( 7... Be7 8. O-O-O ) 8. O-O-O Bd7 ( 8... h6 9. Be3 ) 9. f4 ) 3. d4 ( 3. Bb5+ Bd7 ( 3... Nd7 ) ( 3... Nc6 4. O-O Bd7 5. Re1 ) 4. Bxd7+ Qxd7 5. O-O ( 5. c4 ) ) 3... cxd4 ( 3... Nf6 4. Nc3 cxd4 5. Nxd4 a6 ( 5... Nc6 6. Bg5 ( 6. Bc4 e6 ( 6... Qb6 ) 7. Be3 ) ( 6. Be2 e5 ) 6... e6 7. Qd2 a6 ( 7... Be7 8. O-O-O ) 8. O-O-O Bd7 ( 8... h6 9. Be3 ) 9. f4 ) ( 5... g6 6. Be3 ( 6. Be2 ) 6... Bg7 7. f3 O-O ( 7... Nc6 8. Qd2 ) 8. Qd2 Nc6 9. Bc4 ( 9. O-O-O ) 9... Bd7 10. O-O-O ) ( 5... e6 6. g4 ( 6. Be2 ) ( 6. Be3 ) ) 6. Be3 ( 6. Be2 e5 ( 6... e6 7. O-O Be7 ) 7. Nb3 Be7 8. O-O O-O ) ( 6. Bg5 e6 7. f4 ) ( 6. Bc4 e6 7. Bb3 b5 ) ( 6. f4 ) ( 6. f3 ) ( 6. h3 ) ( 6. g3 ) 6... e5 ( 6... e6 7. f3 b5 ) 7. Nb3 ( 7. Nf3 ) 7... Be6 8. f3 ) 4. Nxd4 ( 4. Qxd4 ) 4... Nf6 5. Nc3 a6 ( 5... Nc6 6. Bg5 ( 6. Bc4 e6 ( 6... Qb6 ) 7. Be3 ) ( 6. Be2 e5 ) 6... e6 7. Qd2 a6 ( 7... Be7 8. O-O-O ) 8. O-O-O Bd7 ( 8... h6 9. Be3 ) 9. f4 ) ( 5... g6 6. Be3 ( 6. Be2 ) 6... Bg7 7. f3 O-O ( 7... Nc6 8. Qd2 ) 8. Qd2 Nc6 9. Bc4 ( 9. O-O-O ) 9... Bd7 10. O-O-O ) ( 5... e6 6. g4 ( 6. Be2 ) ( 6. Be3 ) ) 6. Be3 ( 6. Be2 e5 ( 6... e6 7. O-O Be7 ) 7. Nb3 Be7 8. O-O O-O ) ( 6. Bg5 e6 7. f4 ) ( 6. Bc4 e6 7. Bb3 b5 ) ( 6. f4 ) ( 6. f3 ) ( 6. h3 ) ( 6. g3 ) 6... e5 ( 6... e6 7. f3 b5 ) 7. Nb3 ( 7. Nf3 ) 7... Be6 8. f3 ) 2... Nc6 ( 2... Nf6 3. Nc3 ( 3. g3 ) 3... e6 4. g3 ) ( 2... g6 3. d4 ) 3. Nc3 ( 3. d4 ) ) ( 1... g6 2. d4 ( 2. e4 ) ( 2. c4 Bg7 ) 2... Bg7 ) ( 1... d6 2. d4 g6 ( 2... Bg4 ) ( 2... Nf6 3. c4 g6 4. Nc3 ) 3. c4 ) ( 1... f5 2. g3 ) 2. c4 ( 2. g3 g6 ( 2... d5 3. Bg2 c6 4. O-O Bg4 ) 3. Bg2 ( 3. b3 ) 3... Bg7 4. O-O O-O ) ( 2. d4 g6 ( 2... e6 3. c4 ( 3. g3 ) ( 3. e3 b6 4. Bd3 ) ( 3. Bg5 h6 ) 3... b6 ( 3... d5 4. Nc3 ( 4. g3 dxc4 ( 4... Bb4+ 5. Bd2 ) 5. Bg2 ) ( 4. Bg5 ) 4... Be7 ( 4... c6 5. e3 ( 5. Bg5 h6 6. Bxf6 ( 6. Bh4 ) 6... Qxf6 ) 5... Nbd7 6. Qc2 ( 6. Bd3 dxc4 7. Bxc4 b5 8. Bd3 ) 6... Bd6 7. Bd3 ) ( 4... Bb4 5. cxd5 ( 5. Bg5 ) ) ( 4... Nbd7 ) ( 4... dxc4 ) 5. Bg5 ( 5. Bf4 O-O 6. e3 ) 5... h6 ( 5... O-O 6. e3 ) 6. Bh4 ) ( 3... Bb4+ 4. Bd2 ( 4. Nbd2 ) 4... Qe7 5. g3 ) ( 3... c5 4. d5 exd5 5. cxd5 d6 6. Nc3 g6 7. Bf4 ( 7. Nd2 ) ) 4. g3 ( 4. a3 Bb7 5. Nc3 d5 6. cxd5 ) ( 4. Nc3 Bb7 5. a3 d5 6. cxd5 ) ( 4. e3 ) 4... Ba6 ( 4... Bb7 5. Bg2 Be7 6. O-O ( 6. Nc3 ) 6... O-O 7. Nc3 ) 5. b3 Bb4+ 6. Bd2 Be7 7. Bg2 ) ( 2... d5 3. c4 e6 ( 3... c6 4. Nc3 ( 4. e3 Bf5 5. Nc3 e6 6. Nh4 ) ( 4. Qc2 ) ( 4. Qb3 ) 4... e6 ( 4... dxc4 5. a4 Bf5 6. Ne5 ( 6. e3 e6 7. Bxc4 Bb4 8. O-O ) ) ( 4... a6 5. c5 ( 5. e3 ) ) 5. e3 ( 5. Bg5 h6 6. Bxf6 ( 6. Bh4 ) 6... Qxf6 ) 5... Nbd7 6. Qc2 ( 6. Bd3 dxc4 7. Bxc4 b5 8. Bd3 ) 6... Bd6 7. Bd3 ) ( 3... dxc4 4. e3 e6 5. Bxc4 c5 6. O-O a6 ) 4. Nc3 ( 4. g3 dxc4 ( 4... Bb4+ 5. Bd2 ) 5. Bg2 ) ( 4. Bg5 ) 4... Be7 ( 4... c6 5. e3 ( 5. Bg5 h6 6. Bxf6 ( 6. Bh4 ) 6... Qxf6 ) 5... Nbd7 6. Qc2 ( 6. Bd3 dxc4 7. Bxc4 b5 8. Bd3 ) 6... Bd6 7. Bd3 ) ( 4... Bb4 5. cxd5 ( 5. Bg5 ) ) ( 4... Nbd7 ) ( 4... dxc4 ) 5. Bg5 ( 5. Bf4 O-O 6. e3 ) 5... h6 ( 5... O-O 6. e3 ) 6. Bh4 ) ( 2... c5 3. d5 ) 3. c4 ( 3. g3 Bg7 4. Bg2 O-O 5. O-O d6 6. c4 Nbd7 ( 6... Nc6 7. Nc3 a6 ) 7. Nc3 e5 8. e4 ) ( 3. Bg5 Bg7 4. Nbd2 ) ( 3. Bf4 Bg7 ) 3... Bg7 4. g3 ( 4. Nc3 O-O ( 4... d5 5. Qb3 ( 5. cxd5 ) ( 5. Bg5 ) 5... dxc4 6. Qxc4 O-O 7. e4 ) 5. e4 ( 5. Bg5 ) 5... d6 6. Be2 ( 6. h3 ) 6... e5 ( 6... Nbd7 ) 7. O-O ( 7. Be3 ) ( 7. d5 ) 7... Nc6 8. d5 Ne7 9. b4 ( 9. Ne1 Nd7 ) ( 9. Nd2 ) ) 4... O-O 5. Bg2 d6 6. O-O ( 6. Nc3 Nc6 ( 6... Nbd7 7. O-O e5 8. e4 ) 7. O-O a6 ) 6... Nbd7 ( 6... Nc6 7. Nc3 a6 ) 7. Nc3 e5 8. e4 ) 2... g6 ( 2... e6 3. g3 ( 3. Nc3 d5 ( 3... Bb4 4. Qc2 ) 4. d4 Be7 ( 4... c6 5. e3 ( 5. Bg5 h6 6. Bxf6 ( 6. Bh4 ) 6... Qxf6 ) 5... Nbd7 6. Qc2 ( 6. Bd3 dxc4 7. Bxc4 b5 8. Bd3 ) 6... Bd6 7. Bd3 ) ( 4... Bb4 5. cxd5 ( 5. Bg5 ) ) ( 4... Nbd7 ) ( 4... dxc4 ) 5. Bg5 ( 5. Bf4 O-O 6. e3 ) 5... h6 ( 5... O-O 6. e3 ) 6. Bh4 ) ( 3. d4 b6 ( 3... d5 4. Nc3 ( 4. g3 dxc4 ( 4... Bb4+ 5. Bd2 ) 5. Bg2 ) ( 4. Bg5 ) 4... Be7 ( 4... c6 5. e3 ( 5. Bg5 h6 6. Bxf6 ( 6. Bh4 ) 6... Qxf6 ) 5... Nbd7 6. Qc2 ( 6. Bd3 dxc4 7. Bxc4 b5 8. Bd3 ) 6... Bd6 7. Bd3 ) ( 4... Bb4 5. cxd5 ( 5. Bg5 ) ) ( 4... Nbd7 ) ( 4... dxc4 ) 5. Bg5 ( 5. Bf4 O-O 6. e3 ) 5... h6 ( 5... O-O 6. e3 ) 6. Bh4 ) ( 3... Bb4+ 4. Bd2 ( 4. Nbd2 ) 4... Qe7 5. g3 ) ( 3... c5 4. d5 exd5 5. cxd5 d6 6. Nc3 g6 7. Bf4 ( 7. Nd2 ) ) 4. g3 ( 4. a3 Bb7 5. Nc3 d5 6. cxd5 ) ( 4. Nc3 Bb7 5. a3 d5 6. cxd5 ) ( 4. e3 ) 4... Ba6 ( 4... Bb7 5. Bg2 Be7 6. O-O ( 6. Nc3 ) 6... O-O 7. Nc3 ) 5. b3 Bb4+ 6. Bd2 Be7 7. Bg2 ) 3... d5 4. Bg2 Be7 5. O-O O-O 6. d4 ( 6. b3 ) 6... dxc4 7. Qc2 ) ( 2... c5 3. Nc3 ( 3. g3 ) 3... e6 4. g3 ) ( 2... b6 3. g3 ) 3. Nc3 ( 3. g3 Bg7 4. Bg2 O-O 5. O-O d6 6. d4 Nbd7 ( 6... Nc6 7. Nc3 a6 ) 7. Nc3 e5 8. e4 ) 3... Bg7 4. e4 d6 5. d4 O-O 6. Be2 ( 6. h3 ) 6... e5 ( 6... Nbd7 ) 7. O-O ( 7. Be3 ) ( 7. d5 ) 7... Nc6 8. d5 Ne7 9. b4 ( 9. Ne1 Nd7 ) ( 9. Nd2 ) ) ( 1. c4 Nf6 ( 1... e5 2. Nc3 ( 2. g3 Nf6 3. Bg2 ) 2... Nf6 ( 2... Nc6 3. g3 ( 3. Nf3 ) ) 3. Nf3 ( 3. g3 ) 3... Nc6 4. g3 ) ( 1... e6 2. Nf3 ( 2. Nc3 d5 3. d4 c6 ( 3... Nf6 4. cxd5 ( 4. Bg5 Be7 5. e3 ) ( 4. Nf3 Be7 ( 4... c6 5. e3 ( 5. Bg5 h6 6. Bxf6 ( 6. Bh4 ) 6... Qxf6 ) 5... Nbd7 6. Qc2 ( 6. Bd3 dxc4 7. Bxc4 b5 8. Bd3 ) 6... Bd6 7. Bd3 ) ( 4... Bb4 5. cxd5 ( 5. Bg5 ) ) ( 4... Nbd7 ) ( 4... dxc4 ) 5. Bg5 ( 5. Bf4 O-O 6. e3 ) 5... h6 ( 5... O-O 6. e3 ) 6. Bh4 ) 4... exd5 5. Bg5 ) ( 3... Be7 4. Nf3 ( 4. cxd5 ) ) 4. e3 ( 4. Nf3 ) 4... Nf6 5. Nf3 Nbd7 6. Qc2 ( 6. Bd3 dxc4 7. Bxc4 b5 8. Bd3 ) 6... Bd6 7. Bd3 ) ( 2. g3 ) ( 2. d4 Nf6 ( 2... f5 3. g3 ) ( 2... b6 ) 3. Nc3 ( 3. Nf3 b6 ( 3... d5 4. Nc3 ( 4. g3 dxc4 ( 4... Bb4+ 5. Bd2 ) 5. Bg2 ) ( 4. Bg5 ) 4... Be7 ( 4... c6 5. e3 ( 5. Bg5 h6 6. Bxf6 ( 6. Bh4 ) 6... Qxf6 ) 5... Nbd7 6. Qc2 ( 6. Bd3 dxc4 7. Bxc4 b5 8. Bd3 ) 6... Bd6 7. Bd3 ) ( 4... Bb4 5. cxd5 ( 5. Bg5 ) ) ( 4... Nbd7 ) ( 4... dxc4 ) 5. Bg5 ( 5. Bf4 O-O 6. e3 ) 5... h6 ( 5... O-O 6. e3 ) 6. Bh4 ) ( 3... Bb4+ 4. Bd2 ( 4. Nbd2 ) 4... Qe7 5. g3 ) ( 3... c5 4. d5 exd5 5. cxd5 d6 6. Nc3 g6 7. Bf4 ( 7. Nd2 ) ) 4. g3 ( 4. a3 Bb7 5. Nc3 d5 6. cxd5 ) ( 4. Nc3 Bb7 5. a3 d5 6. cxd5 ) ( 4. e3 ) 4... Ba6 ( 4... Bb7 5. Bg2 Be7 6. O-O ( 6. Nc3 ) 6... O-O 7. Nc3 ) 5. b3 Bb4+ 6. Bd2 Be7 7. Bg2 ) ( 3. g3 d5 ( 3... c5 ) 4. Bg2 ( 4. Nf3 dxc4 ( 4... Bb4+ 5. Bd2 ) 5. Bg2 ) ) 3... Bb4 ( 3... d5 4. cxd5 ( 4. Bg5 Be7 5. e3 ) ( 4. Nf3 Be7 ( 4... c6 5. e3 ( 5. Bg5 h6 6. Bxf6 ( 6. Bh4 ) 6... Qxf6 ) 5... Nbd7 6. Qc2 ( 6. Bd3 dxc4 7. Bxc4 b5 8. Bd3 ) 6... Bd6 7. Bd3 ) ( 4... Bb4 5. cxd5 ( 5. Bg5 ) ) ( 4... Nbd7 ) ( 4... dxc4 ) 5. Bg5 ( 5. Bf4 O-O 6. e3 ) 5... h6 ( 5... O-O 6. e3 ) 6. Bh4 ) 4... exd5 5. Bg5 ) 4. e3 ( 4. Qc2 O-O ( 4... c5 5. dxc5 ) ( 4... d5 5. cxd5 ) 5. a3 Bxc3+ 6. Qxc3 b6 7. Bg5 ) ( 4. Nf3 ) ( 4. f3 ) 4... O-O ( 4... c5 5. Bd3 ( 5. Ne2 ) ) ( 4... b6 5. Ne2 ) 5. Bd3 ( 5. Ne2 d5 ) 5... d5 6. Nf3 c5 7. O-O ) 2... d5 3. g3 ( 3. d4 Nf6 ( 3... c6 4. Qc2 ( 4. e3 ) ) 4. Nc3 ( 4. g3 dxc4 ( 4... Bb4+ 5. Bd2 ) 5. Bg2 ) ( 4. Bg5 ) 4... Be7 ( 4... c6 5. e3 ( 5. Bg5 h6 6. Bxf6 ( 6. Bh4 ) 6... Qxf6 ) 5... Nbd7 6. Qc2 ( 6. Bd3 dxc4 7. Bxc4 b5 8. Bd3 ) 6... Bd6 7. Bd3 ) ( 4... Bb4 5. cxd5 ( 5. Bg5 ) ) ( 4... Nbd7 ) ( 4... dxc4 ) 5. Bg5 ( 5. Bf4 O-O 6. e3 ) 5... h6 ( 5... O-O 6. e3 ) 6. Bh4 ) ) ( 1... g6 2. Nc3 ( 2. d4 Bg7 3. Nc3 ( 3. e4 d6 4. Nc3 ) 3... d6 4. e4 ) ( 2. g3 Bg7 ) 2... Bg7 ) ( 1... c5 2. Nf3 ( 2. Nc3 ) ( 2. g3 ) 2... Nc6 ( 2... Nf6 3. Nc3 ( 3. g3 ) 3... e6 4. g3 ) ( 2... g6 3. d4 ) 3. Nc3 ( 3. d4 ) ) ( 1... c6 2. Nf3 ( 2. e4 d5 3. exd5 ) ( 2. d4 ) ) ( 1... f5 ) 2. Nc3 ( 2. Nf3 g6 ( 2... e6 3. g3 ( 3. Nc3 d5 ( 3... Bb4 4. Qc2 ) 4. d4 Be7 ( 4... c6 5. e3 ( 5. Bg5 h6 6. Bxf6 ( 6. Bh4 ) 6... Qxf6 ) 5... Nbd7 6. Qc2 ( 6. Bd3 dxc4 7. Bxc4 b5 8. Bd3 ) 6... Bd6 7. Bd3 ) ( 4... Bb4 5. cxd5 ( 5. Bg5 ) ) ( 4... Nbd7 ) ( 4... dxc4 ) 5. Bg5 ( 5. Bf4 O-O 6. e3 ) 5... h6 ( 5... O-O 6. e3 ) 6. Bh4 ) ( 3. d4 b6 ( 3... d5 4. Nc3 ( 4. g3 dxc4 ( 4... Bb4+ 5. Bd2 ) 5. Bg2 ) ( 4. Bg5 ) 4... Be7 ( 4... c6 5. e3 ( 5. Bg5 h6 6. Bxf6 ( 6. Bh4 ) 6... Qxf6 ) 5... Nbd7 6. Qc2 ( 6. Bd3 dxc4 7. Bxc4 b5 8. Bd3 ) 6... Bd6 7. Bd3 ) ( 4... Bb4 5. cxd5 ( 5. Bg5 ) ) ( 4... Nbd7 ) ( 4... dxc4 ) 5. Bg5 ( 5. Bf4 O-O 6. e3 ) 5... h6 ( 5... O-O 6. e3 ) 6. Bh4 ) ( 3... Bb4+ 4. Bd2 ( 4. Nbd2 ) 4... Qe7 5. g3 ) ( 3... c5 4. d5 exd5 5. cxd5 d6 6. Nc3 g6 7. Bf4 ( 7. Nd2 ) ) 4. g3 ( 4. a3 Bb7 5. Nc3 d5 6. cxd5 ) ( 4. Nc3 Bb7 5. a3 d5 6. cxd5 ) ( 4. e3 ) 4... Ba6 ( 4... Bb7 5. Bg2 Be7 6. O-O ( 6. Nc3 ) 6... O-O 7. Nc3 ) 5. b3 Bb4+ 6. Bd2 Be7 7. Bg2 ) 3... d5 4. Bg2 Be7 5. O-O O-O 6. d4 ( 6. b3 ) 6... dxc4 7. Qc2 ) ( 2... c5 3. Nc3 ( 3. g3 ) 3... e6 4. g3 ) ( 2... b6 3. g3 ) 3. Nc3 ( 3. g3 Bg7 4. Bg2 O-O 5. O-O d6 6. d4 Nbd7 ( 6... Nc6 7. Nc3 a6 ) 7. Nc3 e5 8. e4 ) 3... Bg7 4. e4 d6 5. d4 O-O 6. Be2 ( 6. h3 ) 6... e5 ( 6... Nbd7 ) 7. O-O ( 7. Be3 ) ( 7. d5 ) 7... Nc6 8. d5 Ne7 9. b4 ( 9. Ne1 Nd7 ) ( 9. Nd2 ) ) ( 2. g3 ) ( 2. d4 e6 ( 2... g6 3. Nc3 ( 3. g3 Bg7 4. Bg2 O-O 5. Nc3 d6 6. Nf3 Nc6 ( 6... Nbd7 7. O-O e5 8. e4 ) 7. O-O a6 ) ( 3. Nf3 Bg7 4. g3 ( 4. Nc3 O-O ( 4... d5 5. Qb3 ( 5. cxd5 ) ( 5. Bg5 ) 5... dxc4 6. Qxc4 O-O 7. e4 ) 5. e4 ( 5. Bg5 ) 5... d6 6. Be2 ( 6. h3 ) 6... e5 ( 6... Nbd7 ) 7. O-O ( 7. Be3 ) ( 7. d5 ) 7... Nc6 8. d5 Ne7 9. b4 ( 9. Ne1 Nd7 ) ( 9. Nd2 ) ) 4... O-O 5. Bg2 d6 6. O-O ( 6. Nc3 Nc6 ( 6... Nbd7 7. O-O e5 8. e4 ) 7. O-O a6 ) 6... Nbd7 ( 6... Nc6 7. Nc3 a6 ) 7. Nc3 e5 8. e4 ) 3... Bg7 ( 3... d5 4. cxd5 ( 4. Nf3 Bg7 5. Qb3 ( 5. cxd5 ) ( 5. Bg5 ) 5... dxc4 6. Qxc4 O-O 7. e4 ) ( 4. Bf4 ) ( 4. Bg5 ) 4... Nxd5 5. e4 Nxc3 6. bxc3 Bg7 7. Bc4 ( 7. Nf3 c5 8. Rb1 ) 7... c5 8. Ne2 ) 4. e4 ( 4. Nf3 O-O ( 4... d5 5. Qb3 ( 5. cxd5 ) ( 5. Bg5 ) 5... dxc4 6. Qxc4 O-O 7. e4 ) 5. e4 ( 5. Bg5 ) 5... d6 6. Be2 ( 6. h3 ) 6... e5 ( 6... Nbd7 ) 7. O-O ( 7. Be3 ) ( 7. d5 ) 7... Nc6 8. d5 Ne7 9. b4 ( 9. Ne1 Nd7 ) ( 9. Nd2 ) ) 4... d6 ( 4... O-O ) 5. Nf3 ( 5. Be2 O-O 6. Nf3 ( 6. Bg5 ) 6... e5 ( 6... Nbd7 ) 7. O-O ( 7. Be3 ) ( 7. d5 ) 7... Nc6 8. d5 Ne7 9. b4 ( 9. Ne1 Nd7 ) ( 9. Nd2 ) ) ( 5. f3 O-O 6. Be3 ( 6. Bg5 ) ( 6. Nge2 ) ) ( 5. h3 ) ( 5. f4 ) ( 5. Bd3 ) 5... O-O 6. Be2 ( 6. h3 ) 6... e5 ( 6... Nbd7 ) 7. O-O ( 7. Be3 ) ( 7. d5 ) 7... Nc6 8. d5 Ne7 9. b4 ( 9. Ne1 Nd7 ) ( 9. Nd2 ) ) ( 2... c5 3. d5 ( 3. Nf3 cxd4 4. Nxd4 ) 3... b5 ( 3... e6 4. Nc3 exd5 5. cxd5 d6 6. e4 ( 6. Nf3 g6 7. Bf4 ( 7. Nd2 ) ) 6... g6 ) ( 3... g6 4. Nc3 ) 4. cxb5 ( 4. Nf3 ) 4... a6 5. bxa6 ) ( 2... d6 3. Nc3 ( 3. Nf3 g6 4. Nc3 ) 3... Nbd7 ) 3. Nc3 ( 3. Nf3 b6 ( 3... d5 4. Nc3 ( 4. g3 dxc4 ( 4... Bb4+ 5. Bd2 ) 5. Bg2 ) ( 4. Bg5 ) 4... Be7 ( 4... c6 5. e3 ( 5. Bg5 h6 6. Bxf6 ( 6. Bh4 ) 6... Qxf6 ) 5... Nbd7 6. Qc2 ( 6. Bd3 dxc4 7. Bxc4 b5 8. Bd3 ) 6... Bd6 7. Bd3 ) ( 4... Bb4 5. cxd5 ( 5. Bg5 ) ) ( 4... Nbd7 ) ( 4... dxc4 ) 5. Bg5 ( 5. Bf4 O-O 6. e3 ) 5... h6 ( 5... O-O 6. e3 ) 6. Bh4 ) ( 3... Bb4+ 4. Bd2 ( 4. Nbd2 ) 4... Qe7 5. g3 ) ( 3... c5 4. d5 exd5 5. cxd5 d6 6. Nc3 g6 7. Bf4 ( 7. Nd2 ) ) 4. g3 ( 4. a3 Bb7 5. Nc3 d5 6. cxd5 ) ( 4. Nc3 Bb7 5. a3 d5 6. cxd5 ) ( 4. e3 ) 4... Ba6 ( 4... Bb7 5. Bg2 Be7 6. O-O ( 6. Nc3 ) 6... O-O 7. Nc3 ) 5. b3 Bb4+ 6. Bd2 Be7 7. Bg2 ) ( 3. g3 d5 ( 3... c5 ) 4. Bg2 ( 4. Nf3 dxc4 ( 4... Bb4+ 5. Bd2 ) 5. Bg2 ) ) 3... Bb4 ( 3... d5 4. cxd5 ( 4. Bg5 Be7 5. e3 ) ( 4. Nf3 Be7 ( 4... c6 5. e3 ( 5. Bg5 h6 6. Bxf6 ( 6. Bh4 ) 6... Qxf6 ) 5... Nbd7 6. Qc2 ( 6. Bd3 dxc4 7. Bxc4 b5 8. Bd3 ) 6... Bd6 7. Bd3 ) ( 4... Bb4 5. cxd5 ( 5. Bg5 ) ) ( 4... Nbd7 ) ( 4... dxc4 ) 5. Bg5 ( 5. Bf4 O-O 6. e3 ) 5... h6 ( 5... O-O 6. e3 ) 6. Bh4 ) 4... exd5 5. Bg5 ) 4. e3 ( 4. Qc2 O-O ( 4... c5 5. dxc5 ) ( 4... d5 5. cxd5 ) 5. a3 Bxc3+ 6. Qxc3 b6 7. Bg5 ) ( 4. Nf3 ) ( 4. f3 ) 4... O-O ( 4... c5 5. Bd3 ( 5. Ne2 ) ) ( 4... b6 5. Ne2 ) 5. Bd3 ( 5. Ne2 d5 ) 5... d5 6. Nf3 c5 7. O-O ) 2... g6 ( 2... e6 3. Nf3 ( 3. e4 ) 3... d5 ( 3... Bb4 4. Qc2 ) 4. d4 Be7 ( 4... c6 5. e3 ( 5. Bg5 h6 6. Bxf6 ( 6. Bh4 ) 6... Qxf6 ) 5... Nbd7 6. Qc2 ( 6. Bd3 dxc4 7. Bxc4 b5 8. Bd3 ) 6... Bd6 7. Bd3 ) ( 4... Bb4 5. cxd5 ( 5. Bg5 ) ) ( 4... Nbd7 ) ( 4... dxc4 ) 5. Bg5 ( 5. Bf4 O-O 6. e3 ) 5... h6 ( 5... O-O 6. e3 ) 6. Bh4 ) ( 2... e5 3. Nf3 ( 3. g3 ) 3... Nc6 4. g3 ) ( 2... c5 3. Nf3 ( 3. g3 ) 3... e6 4. g3 ) 3. e4 ( 3. g3 ) ) 1... c5 ( 1... e5 2. Nf3 Nc6 ( 2... Nf6 3. Nxe5 ( 3. d4 ) ( 3. Nc3 ) 3... d6 4. Nf3 Nxe4 5. d4 ( 5. Nc3 ) 5... d5 6. Bd3 ) 3. Bb5 ( 3. Bc4 Bc5 ( 3... Nf6 4. d3 Be7 5. O-O ) 4. c3 Nf6 5. d3 ) ( 3. d4 exd4 4. Nxd4 Bc5 ( 4... Nf6 5. Nxc6 bxc6 6. e5 ) ) ( 3. Nc3 Nf6 4. Bb5 ) 3... a6 ( 3... Nf6 4. O-O ( 4. d3 ) 4... Nxe4 5. d4 Nd6 6. Bxc6 dxc6 7. dxe5 Nf5 8. Qxd8+ Kxd8 9. Nc3 ) 4. Ba4 ( 4. Bxc6 dxc6 5. O-O ) 4... Nf6 ( 4... d6 5. O-O ( 5. c3 ) ) 5. O-O ( 5. d3 ) 5... Be7 ( 5... b5 6. Bb3 ) ( 5... Nxe4 6. d4 b5 7. Bb3 d5 8. dxe5 Be6 ) 6. Re1 ( 6. d3 ) 6... b5 7. Bb3 d6 ( 7... O-O 8. c3 ( 8. h3 ) ( 8. a4 ) ) 8. c3 O-O 9. h3 ( 9. d4 Bg4 ) 9... Na5 ( 9... Nb8 10. d4 Nbd7 11. Nbd2 ) 10. Bc2 c5 11. d4 Qc7 12. Nbd2 ) ( 1... e6 2. d4 ( 2. d3 d5 3. Nd2 ) 2... d5 3. Nc3 ( 3. Nd2 Nf6 ( 3... c5 4. exd5 ( 4. Ngf3 ) ) ( 3... Be7 ) 4. e5 Nfd7 5. Bd3 ( 5. c3 ) 5... c5 6. c3 Nc6 7. Ne2 cxd4 8. cxd4 f6 9. exf6 ) ( 3. e5 c5 4. c3 Nc6 5. Nf3 Bd7 ) ( 3. exd5 exd5 ) 3... Bb4 ( 3... Nf6 4. Bg5 ( 4. e5 Nfd7 5. f4 c5 6. Nf3 Nc6 7. Be3 ) 4... dxe4 ( 4... Bb4 5. e5 ) ( 4... Be7 5. e5 ) 5. Nxe4 Be7 6. Bxf6 ) 4. e5 c5 ( 4... Ne7 5. a3 Bxc3+ 6. bxc3 ) 5. a3 Bxc3+ 6. bxc3 Ne7 7. Qg4 ( 7. Nf3 ) ) ( 1... c6 2. d4 ( 2. Nc3 d5 3. Nf3 Bg4 4. h3 ) ( 2. c4 d5 3. exd5 ) 2... d5 3. e5 ( 3. Nc3 dxe4 4. Nxe4 Bf5 ( 4... Nd7 5. Ng5 ) 5. Ng3 Bg6 6. h4 h6 7. Nf3 Nd7 8. h5 Bh7 9. Bd3 Bxd3 10. Qxd3 e6 ) ( 3. exd5 cxd5 4. c4 Nf6 5. Nc3 e6 6. Nf3 Bb4 ) ( 3. Nd2 dxe4 4. Nxe4 Bf5 ( 4... Nd7 5. Ng5 ) 5. Ng3 Bg6 6. h4 h6 7. Nf3 Nd7 8. h5 Bh7 9. Bd3 Bxd3 10. Qxd3 e6 ) 3... Bf5 4. Nf3 e6 5. Be2 ) ( 1... d6 2. d4 Nf6 ( 2... g6 3. Nc3 Bg7 4. Be3 ( 4. f4 ) 4... a6 ) 3. Nc3 g6 ( 3... e5 4. Nf3 Nbd7 5. Bc4 Be7 6. O-O O-O 7. Re1 ) 4. f4 ( 4. Be3 ) ( 4. Nf3 Bg7 5. Be2 O-O 6. O-O ) 4... Bg7 5. Nf3 O-O 6. Bd3 ) ( 1... g6 2. d4 Bg7 ( 2... d6 3. Nc3 Bg7 4. Be3 ( 4. f4 ) 4... a6 ) 3. Nc3 ( 3. Nf3 d6 ) ( 3. c4 d6 4. Nc3 ) 3... d6 ( 3... c6 ) 4. Be3 ( 4. f4 ) 4... a6 ) 2. Nf3 ( 2. Nc3 Nc6 ( 2... e6 3. Nf3 a6 4. d4 cxd4 5. Nxd4 Qc7 ( 5... b5 6. Bd3 ) 6. Bd3 ) ( 2... d6 ) 3. Bb5 ( 3. g3 g6 4. Bg2 Bg7 5. d3 d6 ) ( 3. Nf3 ) ( 3. Nge2 ) ) ( 2. c3 Nf6 ( 2... d5 3. exd5 Qxd5 4. d4 Nf6 5. Nf3 ) 3. e5 Nd5 4. Nf3 ( 4. d4 cxd4 5. Nf3 ) ) 2... d6 ( 2... e6 3. d4 ( 3. Nc3 a6 4. d4 cxd4 5. Nxd4 Qc7 ( 5... b5 6. Bd3 ) 6. Bd3 ) ( 3. d3 Nc6 4. g3 ) ( 3. c3 Nf6 ( 3... d5 ) ) ( 3. b3 ) 3... cxd4 4. Nxd4 a6 ( 4... Nc6 5. Nc3 ( 5. Nb5 d6 ) 5... Qc7 ( 5... a6 ) ( 5... d6 ) 6. Be3 ( 6. Be2 a6 7. O-O Nf6 8. Be3 ) ( 6. g3 a6 7. Bg2 ) 6... a6 7. Qd2 Nf6 8. O-O-O ) ( 4... Nf6 5. Nc3 d6 ( 5... Nc6 6. Ndb5 ) 6. g4 ( 6. Be2 ) ( 6. Be3 ) ) 5. Bd3 ( 5. Nc3 Qc7 ( 5... b5 6. Bd3 ) 6. Bd3 ) ( 5. c4 ) 5... Bc5 ( 5... Nf6 6. O-O ) 6. Nb3 Be7 ) ( 2... Nc6 3. d4 ( 3. Bb5 g6 ( 3... e6 4. O-O Nge7 ) ( 3... d6 4. O-O Bd7 5. Re1 ) 4. O-O ( 4. Bxc6 ) 4... Bg7 5. c3 ( 5. Re1 ) ) ( 3. Nc3 ) ( 3. c3 ) 3... cxd4 4. Nxd4 Nf6 ( 4... g6 5. c4 ( 5. Nc3 Bg7 6. Be3 Nf6 7. Bc4 O-O 8. Bb3 ) ) ( 4... e6 5. Nc3 ( 5. Nb5 d6 ) 5... Qc7 ( 5... a6 ) ( 5... d6 ) 6. Be3 ( 6. Be2 a6 7. O-O Nf6 8. Be3 ) ( 6. g3 a6 7. Bg2 ) 6... a6 7. Qd2 Nf6 8. O-O-O ) ( 4... e5 5. Nb5 d6 ) ( 4... Qc7 5. Nc3 e6 6. Be3 ( 6. Be2 a6 7. O-O Nf6 8. Be3 ) ( 6. g3 a6 7. Bg2 ) 6... a6 7. Qd2 Nf6 8. O-O-O ) ( 4... Qb6 ) 5. Nc3 d6 ( 5... e5 6. Ndb5 d6 7. Bg5 a6 8. Na3 b5 9. Nd5 ( 9. Bxf6 gxf6 10. Nd5 f5 ) 9... Be7 10. Bxf6 Bxf6 11. c3 ) 6. Bg5 ( 6. Bc4 e6 ( 6... Qb6 ) 7. Be3 ) ( 6. Be2 e5 ) 6... e6 7. Qd2 a6 ( 7... Be7 8. O-O-O ) 8. O-O-O Bd7 ( 8... h6 9. Be3 ) 9. f4 ) 3. d4 ( 3. Bb5+ Bd7 ( 3... Nd7 ) ( 3... Nc6 4. O-O Bd7 5. Re1 ) 4. Bxd7+ Qxd7 5. O-O ( 5. c4 ) ) 3... cxd4 ( 3... Nf6 4. Nc3 cxd4 5. Nxd4 a6 ( 5... Nc6 6. Bg5 ( 6. Bc4 e6 ( 6... Qb6 ) 7. Be3 ) ( 6. Be2 e5 ) 6... e6 7. Qd2 a6 ( 7... Be7 8. O-O-O ) 8. O-O-O Bd7 ( 8... h6 9. Be3 ) 9. f4 ) ( 5... g6 6. Be3 ( 6. Be2 ) 6... Bg7 7. f3 O-O ( 7... Nc6 8. Qd2 ) 8. Qd2 Nc6 9. Bc4 ( 9. O-O-O ) 9... Bd7 10. O-O-O ) ( 5... e6 6. g4 ( 6. Be2 ) ( 6. Be3 ) ) 6. Be3 ( 6. Be2 e5 ( 6... e6 7. O-O Be7 ) 7. Nb3 Be7 8. O-O O-O ) ( 6. Bg5 e6 7. f4 ) ( 6. Bc4 e6 7. Bb3 b5 ) ( 6. f4 ) ( 6. f3 ) ( 6. h3 ) ( 6. g3 ) 6... e5 ( 6... e6 7. f3 b5 ) 7. Nb3 ( 7. Nf3 ) 7... Be6 8. f3 ) 4. Nxd4 ( 4. Qxd4 ) 4... Nf6 5. Nc3 a6 ( 5... Nc6 6. Bg5 ( 6. Bc4 e6 ( 6... Qb6 ) 7. Be3 ) ( 6. Be2 e5 ) 6... e6 7. Qd2 a6 ( 7... Be7 8. O-O-O ) 8. O-O-O Bd7 ( 8... h6 9. Be3 ) 9. f4 ) ( 5... g6 6. Be3 ( 6. Be2 ) 6... Bg7 7. f3 O-O ( 7... Nc6 8. Qd2 ) 8. Qd2 Nc6 9. Bc4 ( 9. O-O-O ) 9... Bd7 10. O-O-O ) ( 5... e6 6. g4 ( 6. Be2 ) ( 6. Be3 ) ) 6. Be3 ( 6. Be2 e5 ( 6... e6 7. O-O Be7 ) 7. Nb3 Be7 8. O-O O-O ) ( 6. Bg5 e6 7. f4 ) ( 6. Bc4 e6 7. Bb3 b5 ) ( 6. f4 ) ( 6. f3 ) ( 6. h3 ) ( 6. g3 ) 6... e5 ( 6... e6 7. f3 b5 ) 7. Nb3 ( 7. Nf3 ) 7... Be6 8. f3 *\n"
     ]
    }
   ],
   "source": [
    "print(game)"
   ]
  },
  {
   "cell_type": "code",
   "execution_count": 82,
   "id": "a9c8fcf6",
   "metadata": {},
   "outputs": [],
   "source": [
    "print(game, file=open(\"./out/test-big.pgn\", \"w\"), end=\"\\n\")"
   ]
  },
  {
   "cell_type": "code",
   "execution_count": 7,
   "id": "d167f4f5",
   "metadata": {},
   "outputs": [
    {
     "ename": "NameError",
     "evalue": "name 'lc0' is not defined",
     "output_type": "error",
     "traceback": [
      "\u001b[0;31m---------------------------------------------------------------------------\u001b[0m",
      "\u001b[0;31mNameError\u001b[0m                                 Traceback (most recent call last)",
      "Input \u001b[0;32mIn [7]\u001b[0m, in \u001b[0;36m<cell line: 1>\u001b[0;34m()\u001b[0m\n\u001b[0;32m----> 1\u001b[0m \u001b[43mlc0\u001b[49m\u001b[38;5;241m.\u001b[39mplay(board, chess\u001b[38;5;241m.\u001b[39mengine\u001b[38;5;241m.\u001b[39mLimit(time\u001b[38;5;241m=\u001b[39m\u001b[38;5;241m0.1\u001b[39m))\n",
      "\u001b[0;31mNameError\u001b[0m: name 'lc0' is not defined"
     ]
    }
   ],
   "source": [
    "lc0.play(board, chess.engine.Limit(time=0.1))"
   ]
  },
  {
   "cell_type": "markdown",
   "id": "660396c7",
   "metadata": {},
   "source": [
    "## Polyglot"
   ]
  },
  {
   "cell_type": "code",
   "execution_count": 61,
   "id": "00ce3fde",
   "metadata": {
    "scrolled": true
   },
   "outputs": [
    {
     "name": "stdout",
     "output_type": "stream",
     "text": [
      "d2d4 12936\n",
      "e2e4 10305\n",
      "g1f3 3546\n",
      "c2c4 3222\n",
      "g2g3 151\n",
      "b2b3 38\n",
      "f2f4 15\n",
      "b1c3 7\n",
      "b2b4 6\n",
      "c2c3 3\n"
     ]
    }
   ],
   "source": [
    "board = chess.Board()\n",
    "\n",
    "with chess.polyglot.open_reader(POLYGLOT_PATH) as reader:\n",
    "    for entry in reader.find_all(board):\n",
    "        print(entry.move, entry.weight)"
   ]
  },
  {
   "cell_type": "code",
   "execution_count": 53,
   "id": "4698f4a9",
   "metadata": {},
   "outputs": [
    {
     "name": "stdout",
     "output_type": "stream",
     "text": [
      "c7c5 3498\n",
      "e7e5 2059\n",
      "e7e6 1130\n",
      "c7c6 768\n",
      "d7d6 270\n",
      "g7g6 121\n",
      "g8f6 92\n",
      "d7d5 53\n",
      "b8c6 18\n",
      "b7b6 2\n"
     ]
    }
   ],
   "source": [
    "board.push(chess.Move.from_uci(\"e2e4\"))\n",
    "\n",
    "with chess.polyglot.open_reader(POLYGLOT_PATH) as reader:\n",
    "    for entry in reader.find_all(board):\n",
    "        print(entry.move, entry.weight)"
   ]
  },
  {
   "cell_type": "code",
   "execution_count": null,
   "id": "b3691fea",
   "metadata": {},
   "outputs": [],
   "source": []
  },
  {
   "cell_type": "markdown",
   "id": "6c409c15",
   "metadata": {},
   "source": [
    "## LC0"
   ]
  },
  {
   "cell_type": "code",
   "execution_count": 12,
   "id": "0c44eb19",
   "metadata": {},
   "outputs": [
    {
     "name": "stderr",
     "output_type": "stream",
     "text": [
      "<UciProtocol (pid=13481)>: stderr >> \u001b[1m\u001b[31m       _\n",
      "<UciProtocol (pid=13481)>: stderr >> |   _ | |\n",
      "<UciProtocol (pid=13481)>: stderr >> |_ |_ |_|\u001b[0m v0.28.2+git.dirty built Dec 26 2021\n",
      "<UciProtocol (pid=13481)>: stderr >> Found pb network file: /opt/homebrew/Cellar/lc0/0.28.2_1/libexec/42850.pb.gz\n",
      "<UciProtocol (pid=13481)>: stderr >> Creating backend [opencl]...\n",
      "<UciProtocol (pid=13481)>: stderr >> OpenCL, maximum batch size set to 16.\n",
      "<UciProtocol (pid=13481)>: stderr >> Initializing OpenCL.\n",
      "<UciProtocol (pid=13481)>: stderr >> Detected 1 OpenCL platforms.\n",
      "<UciProtocol (pid=13481)>: stderr >> Platform version: OpenCL 1.2 (May  8 2021 03:14:28)\n",
      "<UciProtocol (pid=13481)>: stderr >> Platform profile: FULL_PROFILE\n",
      "<UciProtocol (pid=13481)>: stderr >> Platform name:    Apple\n",
      "<UciProtocol (pid=13481)>: stderr >> Platform vendor:  Apple\n",
      "<UciProtocol (pid=13481)>: stderr >> Device ID:      0\n",
      "<UciProtocol (pid=13481)>: stderr >> Device name:    Apple M1\n",
      "<UciProtocol (pid=13481)>: stderr >> Device type:    GPU\n",
      "<UciProtocol (pid=13481)>: stderr >> Device vendor:  Apple\n",
      "<UciProtocol (pid=13481)>: stderr >> Device driver:  1.2 1.0\n",
      "<UciProtocol (pid=13481)>: stderr >> Device speed:   1000 MHZ\n",
      "<UciProtocol (pid=13481)>: stderr >> Device cores:   8 CU\n",
      "<UciProtocol (pid=13481)>: stderr >> Device score:   112\n",
      "<UciProtocol (pid=13481)>: stderr >> Selected platform: Apple\n",
      "<UciProtocol (pid=13481)>: stderr >> Selected device: Apple M1\n",
      "<UciProtocol (pid=13481)>: stderr >> with OpenCL 1.2 capability.\n",
      "<UciProtocol (pid=13481)>: stderr >> Loaded existing SGEMM tuning for batch size 16.\n",
      "<UciProtocol (pid=13481)>: stderr >> Wavefront/Warp size: 32\n",
      "<UciProtocol (pid=13481)>: stderr >> \n",
      "<UciProtocol (pid=13481)>: stderr >> Max workgroup size: 256\n",
      "<UciProtocol (pid=13481)>: stderr >> Max workgroup dimensions: 256 256 256\n"
     ]
    },
    {
     "name": "stdout",
     "output_type": "stream",
     "text": [
      "{'depth': 1, 'seldepth': 0, 'time': 0.007, 'nodes': 1, 'score': PovScore(Cp(+12), WHITE), 'tbhits': 0, 'pv': [Move.from_uci('e2e4')]}\n"
     ]
    }
   ],
   "source": [
    "lc0 = chess.engine.SimpleEngine.popen_uci(LC0_PATH)\n",
    "board = chess.Board()\n",
    "game = chess.pgn.Game()\n",
    "node = game\n",
    "\n",
    "while not board.is_game_over():\n",
    "    result = lc0.play(board, chess.engine.Limit(time=0.1))\n",
    "    analysis = lc0.analyse(board, chess.engine.Limit(time=0.1))\n",
    "    print(analysis)\n",
    "    break\n",
    "    node = node.add_variation(result.move)\n",
    "    board.push(result.move)\n",
    "\n",
    "lc0.quit()"
   ]
  },
  {
   "cell_type": "code",
   "execution_count": 36,
   "id": "e16ca758",
   "metadata": {},
   "outputs": [
    {
     "data": {
      "text/plain": [
       "<Mainline at 0x10a884cd0 (1. e4 e5 2. Nf3 Nc6 3. Bb5 Nf6 4. O-O Nxe4 5. d4 Nd6 6. Bxc6 dxc6 7. dxe5 Nf5 8. Qxd8+ Kxd8 9. h3 Be7 10. Nc3 h5 11. Bf4 Nh4 12. Nxh4 Bxh4 13. Rad1+ Ke8 14. Ne2 c5 15. c4 Bf5 16. b3 Rd8 17. f3 b6 18. g3 Be7 19. Kg2 g5 20. Bc1 Bd3 21. Rfe1 Bxe2 22. Rxd8+ Kxd8 23. Rxe2 Kd7 24. f4 gxf4 25. gxf4 Ke6 26. Kf3 Rg8 27. Ke4 f5+ 28. exf6 Bxf6 29. Be3 Rg3 30. f5+ Kf7 31. Bf4 Rxh3 32. Bxc7 h4 33. Bb8 a6 34. Ba7 Bd8 35. Rd2 Bg5 36. Rd7+ Kf6 37. Rd6+ Kf7 38. Rxb6 Re3+ 39. Kd5 h3 40. Bb8 Rf3 41. Rb7+ Kf6 42. Rh7 Kxf5 43. Kxc5 Kg4 44. Kb6 Rf2 45. c5 Rxa2 46. c6 Rb2 47. Kxa6 Rxb3 48. c7 Rc3 49. Kb7 Rb3+ 50. Kc6 Rc3+ 51. Kd7 Rd3+ 52. Ke6 Rc3 53. Rh8 Bf4 54. c8=Q Rxc8 55. Rxc8 Bxb8 56. Rxb8 h2 57. Rb1 Kf4 58. Ke7 Kg4 59. Kf7 Kf4 60. Ke8 Kg4 61. Rb4+ Kh3 62. Rb1 Kg2 63. Rd1 h1=R 64. Rxh1 Kxh1)>"
      ]
     },
     "execution_count": 36,
     "metadata": {},
     "output_type": "execute_result"
    }
   ],
   "source": [
    "game.mainline()"
   ]
  },
  {
   "cell_type": "code",
   "execution_count": 37,
   "id": "2e9fafa1",
   "metadata": {},
   "outputs": [
    {
     "name": "stdout",
     "output_type": "stream",
     "text": [
      "[Event \"?\"]\n",
      "[Site \"?\"]\n",
      "[Date \"????.??.??\"]\n",
      "[Round \"?\"]\n",
      "[White \"?\"]\n",
      "[Black \"?\"]\n",
      "[Result \"*\"]\n",
      "\n",
      "1. e4 e5 2. Nf3 Nc6 3. Bb5 Nf6 4. O-O Nxe4 5. d4 Nd6 6. Bxc6 dxc6 7. dxe5 Nf5 8. Qxd8+ Kxd8 9. h3 Be7 10. Nc3 h5 11. Bf4 Nh4 12. Nxh4 Bxh4 13. Rad1+ Ke8 14. Ne2 c5 15. c4 Bf5 16. b3 Rd8 17. f3 b6 18. g3 Be7 19. Kg2 g5 20. Bc1 Bd3 21. Rfe1 Bxe2 22. Rxd8+ Kxd8 23. Rxe2 Kd7 24. f4 gxf4 25. gxf4 Ke6 26. Kf3 Rg8 27. Ke4 f5+ 28. exf6 Bxf6 29. Be3 Rg3 30. f5+ Kf7 31. Bf4 Rxh3 32. Bxc7 h4 33. Bb8 a6 34. Ba7 Bd8 35. Rd2 Bg5 36. Rd7+ Kf6 37. Rd6+ Kf7 38. Rxb6 Re3+ 39. Kd5 h3 40. Bb8 Rf3 41. Rb7+ Kf6 42. Rh7 Kxf5 43. Kxc5 Kg4 44. Kb6 Rf2 45. c5 Rxa2 46. c6 Rb2 47. Kxa6 Rxb3 48. c7 Rc3 49. Kb7 Rb3+ 50. Kc6 Rc3+ 51. Kd7 Rd3+ 52. Ke6 Rc3 53. Rh8 Bf4 54. c8=Q Rxc8 55. Rxc8 Bxb8 56. Rxb8 h2 57. Rb1 Kf4 58. Ke7 Kg4 59. Kf7 Kf4 60. Ke8 Kg4 61. Rb4+ Kh3 62. Rb1 Kg2 63. Rd1 h1=R 64. Rxh1 Kxh1 *\n"
     ]
    }
   ],
   "source": [
    "print(game)"
   ]
  },
  {
   "cell_type": "code",
   "execution_count": 24,
   "id": "e9eb9654",
   "metadata": {},
   "outputs": [
    {
     "data": {
      "image/svg+xml": [
       "<svg xmlns=\"http://www.w3.org/2000/svg\" xmlns:xlink=\"http://www.w3.org/1999/xlink\" version=\"1.2\" baseProfile=\"tiny\" viewBox=\"0 0 390 390\" width=\"390\" height=\"390\"><defs><g id=\"white-king\" class=\"white king\" fill=\"none\" fill-rule=\"evenodd\" stroke=\"#000\" stroke-width=\"1.5\" stroke-linecap=\"round\" stroke-linejoin=\"round\"><path d=\"M22.5 11.63V6M20 8h5\" stroke-linejoin=\"miter\" /><path d=\"M22.5 25s4.5-7.5 3-10.5c0 0-1-2.5-3-2.5s-3 2.5-3 2.5c-1.5 3 3 10.5 3 10.5\" fill=\"#fff\" stroke-linecap=\"butt\" stroke-linejoin=\"miter\" /><path d=\"M11.5 37c5.5 3.5 15.5 3.5 21 0v-7s9-4.5 6-10.5c-4-6.5-13.5-3.5-16 4V27v-3.5c-3.5-7.5-13-10.5-16-4-3 6 5 10 5 10V37z\" fill=\"#fff\" /><path d=\"M11.5 30c5.5-3 15.5-3 21 0m-21 3.5c5.5-3 15.5-3 21 0m-21 3.5c5.5-3 15.5-3 21 0\" /></g><g id=\"black-king\" class=\"black king\" fill=\"none\" fill-rule=\"evenodd\" stroke=\"#000\" stroke-width=\"1.5\" stroke-linecap=\"round\" stroke-linejoin=\"round\"><path d=\"M22.5 11.63V6\" stroke-linejoin=\"miter\" /><path d=\"M22.5 25s4.5-7.5 3-10.5c0 0-1-2.5-3-2.5s-3 2.5-3 2.5c-1.5 3 3 10.5 3 10.5\" fill=\"#000\" stroke-linecap=\"butt\" stroke-linejoin=\"miter\" /><path d=\"M11.5 37c5.5 3.5 15.5 3.5 21 0v-7s9-4.5 6-10.5c-4-6.5-13.5-3.5-16 4V27v-3.5c-3.5-7.5-13-10.5-16-4-3 6 5 10 5 10V37z\" fill=\"#000\" /><path d=\"M20 8h5\" stroke-linejoin=\"miter\" /><path d=\"M32 29.5s8.5-4 6.03-9.65C34.15 14 25 18 22.5 24.5l.01 2.1-.01-2.1C20 18 9.906 14 6.997 19.85c-2.497 5.65 4.853 9 4.853 9M11.5 30c5.5-3 15.5-3 21 0m-21 3.5c5.5-3 15.5-3 21 0m-21 3.5c5.5-3 15.5-3 21 0\" stroke=\"#fff\" /></g></defs><rect x=\"0\" y=\"0\" width=\"390\" height=\"390\" fill=\"#212121\" /><g transform=\"translate(20, 0) scale(0.75, 0.75)\" fill=\"#e5e5e5\" stroke=\"#e5e5e5\"><path d=\"M23.328 10.016q-1.742 0-2.414.398-.672.398-.672 1.36 0 .765.5 1.218.508.445 1.375.445 1.196 0 1.914-.843.727-.852.727-2.258v-.32zm2.867-.594v4.992h-1.437v-1.328q-.492.797-1.227 1.18-.734.375-1.797.375-1.343 0-2.14-.75-.79-.758-.79-2.024 0-1.476.985-2.226.992-.75 2.953-.75h2.016V8.75q0-.992-.656-1.531-.649-.547-1.829-.547-.75 0-1.46.18-.711.18-1.368.539V6.062q.79-.304 1.532-.453.742-.156 1.445-.156 1.898 0 2.836.984.937.985.937 2.985z\" /></g><g transform=\"translate(20, 375) scale(0.75, 0.75)\" fill=\"#e5e5e5\" stroke=\"#e5e5e5\"><path d=\"M23.328 10.016q-1.742 0-2.414.398-.672.398-.672 1.36 0 .765.5 1.218.508.445 1.375.445 1.196 0 1.914-.843.727-.852.727-2.258v-.32zm2.867-.594v4.992h-1.437v-1.328q-.492.797-1.227 1.18-.734.375-1.797.375-1.343 0-2.14-.75-.79-.758-.79-2.024 0-1.476.985-2.226.992-.75 2.953-.75h2.016V8.75q0-.992-.656-1.531-.649-.547-1.829-.547-.75 0-1.46.18-.711.18-1.368.539V6.062q.79-.304 1.532-.453.742-.156 1.445-.156 1.898 0 2.836.984.937.985.937 2.985z\" /></g><g transform=\"translate(65, 0) scale(0.75, 0.75)\" fill=\"#e5e5e5\" stroke=\"#e5e5e5\"><path d=\"M24.922 10.047q0-1.586-.656-2.485-.649-.906-1.79-.906-1.14 0-1.796.906-.649.899-.649 2.485 0 1.586.649 2.492.656.898 1.797.898 1.14 0 1.789-.898.656-.906.656-2.492zm-4.89-3.055q.452-.781 1.14-1.156.695-.383 1.656-.383 1.594 0 2.586 1.266 1 1.265 1 3.328 0 2.062-1 3.328-.992 1.266-2.586 1.266-.96 0-1.656-.375-.688-.383-1.14-1.164v1.312h-1.446V2.258h1.445z\" /></g><g transform=\"translate(65, 375) scale(0.75, 0.75)\" fill=\"#e5e5e5\" stroke=\"#e5e5e5\"><path d=\"M24.922 10.047q0-1.586-.656-2.485-.649-.906-1.79-.906-1.14 0-1.796.906-.649.899-.649 2.485 0 1.586.649 2.492.656.898 1.797.898 1.14 0 1.789-.898.656-.906.656-2.492zm-4.89-3.055q.452-.781 1.14-1.156.695-.383 1.656-.383 1.594 0 2.586 1.266 1 1.265 1 3.328 0 2.062-1 3.328-.992 1.266-2.586 1.266-.96 0-1.656-.375-.688-.383-1.14-1.164v1.312h-1.446V2.258h1.445z\" /></g><g transform=\"translate(110, 0) scale(0.75, 0.75)\" fill=\"#e5e5e5\" stroke=\"#e5e5e5\"><path d=\"M25.96 6v1.344q-.608-.336-1.226-.5-.609-.172-1.234-.172-1.398 0-2.172.89-.773.883-.773 2.485 0 1.601.773 2.492.774.883 2.172.883.625 0 1.234-.164.618-.172 1.227-.508v1.328q-.602.281-1.25.422-.64.14-1.367.14-1.977 0-3.14-1.242-1.165-1.242-1.165-3.351 0-2.14 1.172-3.367 1.18-1.227 3.227-1.227.664 0 1.296.14.633.134 1.227.407z\" /></g><g transform=\"translate(110, 375) scale(0.75, 0.75)\" fill=\"#e5e5e5\" stroke=\"#e5e5e5\"><path d=\"M25.96 6v1.344q-.608-.336-1.226-.5-.609-.172-1.234-.172-1.398 0-2.172.89-.773.883-.773 2.485 0 1.601.773 2.492.774.883 2.172.883.625 0 1.234-.164.618-.172 1.227-.508v1.328q-.602.281-1.25.422-.64.14-1.367.14-1.977 0-3.14-1.242-1.165-1.242-1.165-3.351 0-2.14 1.172-3.367 1.18-1.227 3.227-1.227.664 0 1.296.14.633.134 1.227.407z\" /></g><g transform=\"translate(155, 0) scale(0.75, 0.75)\" fill=\"#e5e5e5\" stroke=\"#e5e5e5\"><path d=\"M24.973 6.992V2.258h1.437v12.156h-1.437v-1.312q-.453.78-1.149 1.164-.687.375-1.656.375-1.586 0-2.586-1.266-.992-1.266-.992-3.328 0-2.063.992-3.328 1-1.266 2.586-1.266.969 0 1.656.383.696.375 1.149 1.156zm-4.899 3.055q0 1.586.649 2.492.656.898 1.797.898 1.14 0 1.796-.898.657-.906.657-2.492 0-1.586-.657-2.485-.656-.906-1.796-.906-1.141 0-1.797.906-.649.899-.649 2.485z\" /></g><g transform=\"translate(155, 375) scale(0.75, 0.75)\" fill=\"#e5e5e5\" stroke=\"#e5e5e5\"><path d=\"M24.973 6.992V2.258h1.437v12.156h-1.437v-1.312q-.453.78-1.149 1.164-.687.375-1.656.375-1.586 0-2.586-1.266-.992-1.266-.992-3.328 0-2.063.992-3.328 1-1.266 2.586-1.266.969 0 1.656.383.696.375 1.149 1.156zm-4.899 3.055q0 1.586.649 2.492.656.898 1.797.898 1.14 0 1.796-.898.657-.906.657-2.492 0-1.586-.657-2.485-.656-.906-1.796-.906-1.141 0-1.797.906-.649.899-.649 2.485z\" /></g><g transform=\"translate(200, 0) scale(0.75, 0.75)\" fill=\"#e5e5e5\" stroke=\"#e5e5e5\"><path d=\"M26.555 9.68v.703h-6.61q.094 1.484.89 2.265.806.774 2.235.774.828 0 1.602-.203.781-.203 1.547-.61v1.36q-.774.328-1.586.5-.813.172-1.649.172-2.093 0-3.32-1.22-1.219-1.218-1.219-3.296 0-2.148 1.157-3.406 1.164-1.266 3.132-1.266 1.766 0 2.79 1.14 1.03 1.134 1.03 3.087zm-1.438-.422q-.015-1.18-.664-1.883-.64-.703-1.703-.703-1.203 0-1.93.68-.718.68-.828 1.914z\" /></g><g transform=\"translate(200, 375) scale(0.75, 0.75)\" fill=\"#e5e5e5\" stroke=\"#e5e5e5\"><path d=\"M26.555 9.68v.703h-6.61q.094 1.484.89 2.265.806.774 2.235.774.828 0 1.602-.203.781-.203 1.547-.61v1.36q-.774.328-1.586.5-.813.172-1.649.172-2.093 0-3.32-1.22-1.219-1.218-1.219-3.296 0-2.148 1.157-3.406 1.164-1.266 3.132-1.266 1.766 0 2.79 1.14 1.03 1.134 1.03 3.087zm-1.438-.422q-.015-1.18-.664-1.883-.64-.703-1.703-.703-1.203 0-1.93.68-.718.68-.828 1.914z\" /></g><g transform=\"translate(245, 0) scale(0.75, 0.75)\" fill=\"#e5e5e5\" stroke=\"#e5e5e5\"><path d=\"M25.285 2.258v1.195H23.91q-.773 0-1.078.313-.297.312-.297 1.125v.773h2.367v1.117h-2.367v7.633H21.09V6.781h-1.375V5.664h1.375v-.61q0-1.46.68-2.124.68-.672 2.156-.672z\" /></g><g transform=\"translate(245, 375) scale(0.75, 0.75)\" fill=\"#e5e5e5\" stroke=\"#e5e5e5\"><path d=\"M25.285 2.258v1.195H23.91q-.773 0-1.078.313-.297.312-.297 1.125v.773h2.367v1.117h-2.367v7.633H21.09V6.781h-1.375V5.664h1.375v-.61q0-1.46.68-2.124.68-.672 2.156-.672z\" /></g><g transform=\"translate(290, 0) scale(0.75, 0.75)\" fill=\"#e5e5e5\" stroke=\"#e5e5e5\"><path d=\"M24.973 9.937q0-1.562-.649-2.421-.64-.86-1.804-.86-1.157 0-1.805.86-.64.859-.64 2.421 0 1.555.64 2.415.648.859 1.805.859 1.164 0 1.804-.86.649-.859.649-2.414zm1.437 3.391q0 2.234-.992 3.32-.992 1.094-3.04 1.094-.757 0-1.429-.117-.672-.11-1.304-.344v-1.398q.632.344 1.25.508.617.164 1.257.164 1.414 0 2.118-.743.703-.734.703-2.226v-.711q-.446.773-1.141 1.156-.695.383-1.664.383-1.61 0-2.594-1.227-.984-1.226-.984-3.25 0-2.03.984-3.257.985-1.227 2.594-1.227.969 0 1.664.383t1.14 1.156V5.664h1.438z\" /></g><g transform=\"translate(290, 375) scale(0.75, 0.75)\" fill=\"#e5e5e5\" stroke=\"#e5e5e5\"><path d=\"M24.973 9.937q0-1.562-.649-2.421-.64-.86-1.804-.86-1.157 0-1.805.86-.64.859-.64 2.421 0 1.555.64 2.415.648.859 1.805.859 1.164 0 1.804-.86.649-.859.649-2.414zm1.437 3.391q0 2.234-.992 3.32-.992 1.094-3.04 1.094-.757 0-1.429-.117-.672-.11-1.304-.344v-1.398q.632.344 1.25.508.617.164 1.257.164 1.414 0 2.118-.743.703-.734.703-2.226v-.711q-.446.773-1.141 1.156-.695.383-1.664.383-1.61 0-2.594-1.227-.984-1.226-.984-3.25 0-2.03.984-3.257.985-1.227 2.594-1.227.969 0 1.664.383t1.14 1.156V5.664h1.438z\" /></g><g transform=\"translate(335, 0) scale(0.75, 0.75)\" fill=\"#e5e5e5\" stroke=\"#e5e5e5\"><path d=\"M26.164 9.133v5.281h-1.437V9.18q0-1.243-.485-1.86-.484-.617-1.453-.617-1.164 0-1.836.742-.672.742-.672 2.024v4.945h-1.445V2.258h1.445v4.765q.516-.789 1.211-1.18.703-.39 1.617-.39 1.508 0 2.282.938.773.93.773 2.742z\" /></g><g transform=\"translate(335, 375) scale(0.75, 0.75)\" fill=\"#e5e5e5\" stroke=\"#e5e5e5\"><path d=\"M26.164 9.133v5.281h-1.437V9.18q0-1.243-.485-1.86-.484-.617-1.453-.617-1.164 0-1.836.742-.672.742-.672 2.024v4.945h-1.445V2.258h1.445v4.765q.516-.789 1.211-1.18.703-.39 1.617-.39 1.508 0 2.282.938.773.93.773 2.742z\" /></g><g transform=\"translate(0, 335) scale(0.75, 0.75)\" fill=\"#e5e5e5\" stroke=\"#e5e5e5\"><path d=\"M6.754 26.996h2.578v-8.898l-2.805.562v-1.437l2.79-.563h1.578v10.336h2.578v1.328h-6.72z\" /></g><g transform=\"translate(375, 335) scale(0.75, 0.75)\" fill=\"#e5e5e5\" stroke=\"#e5e5e5\"><path d=\"M6.754 26.996h2.578v-8.898l-2.805.562v-1.437l2.79-.563h1.578v10.336h2.578v1.328h-6.72z\" /></g><g transform=\"translate(0, 290) scale(0.75, 0.75)\" fill=\"#e5e5e5\" stroke=\"#e5e5e5\"><path d=\"M8.195 26.996h5.508v1.328H6.297v-1.328q.898-.93 2.445-2.492 1.555-1.57 1.953-2.024.758-.851 1.055-1.437.305-.594.305-1.164 0-.93-.657-1.516-.648-.586-1.695-.586-.742 0-1.57.258-.82.258-1.758.781v-1.593q.953-.383 1.781-.578.828-.196 1.516-.196 1.812 0 2.89.906 1.079.907 1.079 2.422 0 .72-.274 1.368-.265.64-.976 1.515-.196.227-1.243 1.313-1.046 1.078-2.953 3.023z\" /></g><g transform=\"translate(375, 290) scale(0.75, 0.75)\" fill=\"#e5e5e5\" stroke=\"#e5e5e5\"><path d=\"M8.195 26.996h5.508v1.328H6.297v-1.328q.898-.93 2.445-2.492 1.555-1.57 1.953-2.024.758-.851 1.055-1.437.305-.594.305-1.164 0-.93-.657-1.516-.648-.586-1.695-.586-.742 0-1.57.258-.82.258-1.758.781v-1.593q.953-.383 1.781-.578.828-.196 1.516-.196 1.812 0 2.89.906 1.079.907 1.079 2.422 0 .72-.274 1.368-.265.64-.976 1.515-.196.227-1.243 1.313-1.046 1.078-2.953 3.023z\" /></g><g transform=\"translate(0, 245) scale(0.75, 0.75)\" fill=\"#e5e5e5\" stroke=\"#e5e5e5\"><path d=\"M11.434 22.035q1.132.242 1.765 1.008.64.766.64 1.89 0 1.727-1.187 2.672-1.187.946-3.375.946-.734 0-1.515-.149-.774-.14-1.602-.43V26.45q.656.383 1.438.578.78.196 1.632.196 1.485 0 2.258-.586.782-.586.782-1.703 0-1.032-.727-1.61-.719-.586-2.008-.586h-1.36v-1.297h1.423q1.164 0 1.78-.46.618-.47.618-1.344 0-.899-.64-1.375-.633-.485-1.82-.485-.65 0-1.391.141-.743.14-1.633.437V16.95q.898-.25 1.68-.375.788-.125 1.484-.125 1.797 0 2.844.82 1.046.813 1.046 2.204 0 .968-.554 1.64-.555.664-1.578.922z\" /></g><g transform=\"translate(375, 245) scale(0.75, 0.75)\" fill=\"#e5e5e5\" stroke=\"#e5e5e5\"><path d=\"M11.434 22.035q1.132.242 1.765 1.008.64.766.64 1.89 0 1.727-1.187 2.672-1.187.946-3.375.946-.734 0-1.515-.149-.774-.14-1.602-.43V26.45q.656.383 1.438.578.78.196 1.632.196 1.485 0 2.258-.586.782-.586.782-1.703 0-1.032-.727-1.61-.719-.586-2.008-.586h-1.36v-1.297h1.423q1.164 0 1.78-.46.618-.47.618-1.344 0-.899-.64-1.375-.633-.485-1.82-.485-.65 0-1.391.141-.743.14-1.633.437V16.95q.898-.25 1.68-.375.788-.125 1.484-.125 1.797 0 2.844.82 1.046.813 1.046 2.204 0 .968-.554 1.64-.555.664-1.578.922z\" /></g><g transform=\"translate(0, 200) scale(0.75, 0.75)\" fill=\"#e5e5e5\" stroke=\"#e5e5e5\"><path d=\"M11.016 18.035L7.03 24.262h3.985zm-.414-1.375h1.984v7.602h1.664v1.312h-1.664v2.75h-1.57v-2.75H5.75v-1.523z\" /></g><g transform=\"translate(375, 200) scale(0.75, 0.75)\" fill=\"#e5e5e5\" stroke=\"#e5e5e5\"><path d=\"M11.016 18.035L7.03 24.262h3.985zm-.414-1.375h1.984v7.602h1.664v1.312h-1.664v2.75h-1.57v-2.75H5.75v-1.523z\" /></g><g transform=\"translate(0, 155) scale(0.75, 0.75)\" fill=\"#e5e5e5\" stroke=\"#e5e5e5\"><path d=\"M6.719 16.66h6.195v1.328h-4.75v2.86q.344-.118.688-.172.343-.063.687-.063 1.953 0 3.094 1.07 1.14 1.07 1.14 2.899 0 1.883-1.171 2.93-1.172 1.039-3.305 1.039-.735 0-1.5-.125-.758-.125-1.57-.375v-1.586q.703.383 1.453.57.75.188 1.586.188 1.351 0 2.14-.711.79-.711.79-1.93 0-1.219-.79-1.93-.789-.71-2.14-.71-.633 0-1.266.14-.625.14-1.281.438z\" /></g><g transform=\"translate(375, 155) scale(0.75, 0.75)\" fill=\"#e5e5e5\" stroke=\"#e5e5e5\"><path d=\"M6.719 16.66h6.195v1.328h-4.75v2.86q.344-.118.688-.172.343-.063.687-.063 1.953 0 3.094 1.07 1.14 1.07 1.14 2.899 0 1.883-1.171 2.93-1.172 1.039-3.305 1.039-.735 0-1.5-.125-.758-.125-1.57-.375v-1.586q.703.383 1.453.57.75.188 1.586.188 1.351 0 2.14-.711.79-.711.79-1.93 0-1.219-.79-1.93-.789-.71-2.14-.71-.633 0-1.266.14-.625.14-1.281.438z\" /></g><g transform=\"translate(0, 110) scale(0.75, 0.75)\" fill=\"#e5e5e5\" stroke=\"#e5e5e5\"><path d=\"M10.137 21.863q-1.063 0-1.688.727-.617.726-.617 1.992 0 1.258.617 1.992.625.727 1.688.727 1.062 0 1.68-.727.624-.734.624-1.992 0-1.266-.625-1.992-.617-.727-1.68-.727zm3.133-4.945v1.437q-.594-.28-1.204-.43-.601-.148-1.195-.148-1.562 0-2.39 1.055-.82 1.055-.938 3.188.46-.68 1.156-1.04.696-.367 1.531-.367 1.758 0 2.774 1.07 1.023 1.063 1.023 2.899 0 1.797-1.062 2.883-1.063 1.086-2.828 1.086-2.024 0-3.094-1.547-1.07-1.555-1.07-4.5 0-2.766 1.312-4.406 1.313-1.649 3.524-1.649.593 0 1.195.117.61.118 1.266.352z\" /></g><g transform=\"translate(375, 110) scale(0.75, 0.75)\" fill=\"#e5e5e5\" stroke=\"#e5e5e5\"><path d=\"M10.137 21.863q-1.063 0-1.688.727-.617.726-.617 1.992 0 1.258.617 1.992.625.727 1.688.727 1.062 0 1.68-.727.624-.734.624-1.992 0-1.266-.625-1.992-.617-.727-1.68-.727zm3.133-4.945v1.437q-.594-.28-1.204-.43-.601-.148-1.195-.148-1.562 0-2.39 1.055-.82 1.055-.938 3.188.46-.68 1.156-1.04.696-.367 1.531-.367 1.758 0 2.774 1.07 1.023 1.063 1.023 2.899 0 1.797-1.062 2.883-1.063 1.086-2.828 1.086-2.024 0-3.094-1.547-1.07-1.555-1.07-4.5 0-2.766 1.312-4.406 1.313-1.649 3.524-1.649.593 0 1.195.117.61.118 1.266.352z\" /></g><g transform=\"translate(0, 65) scale(0.75, 0.75)\" fill=\"#e5e5e5\" stroke=\"#e5e5e5\"><path d=\"M6.25 16.66h7.5v.672L9.516 28.324H7.867l3.985-10.336H6.25z\" /></g><g transform=\"translate(375, 65) scale(0.75, 0.75)\" fill=\"#e5e5e5\" stroke=\"#e5e5e5\"><path d=\"M6.25 16.66h7.5v.672L9.516 28.324H7.867l3.985-10.336H6.25z\" /></g><g transform=\"translate(0, 20) scale(0.75, 0.75)\" fill=\"#e5e5e5\" stroke=\"#e5e5e5\"><path d=\"M10 22.785q-1.125 0-1.773.602-.641.601-.641 1.656t.64 1.656q.649.602 1.774.602t1.773-.602q.649-.61.649-1.656 0-1.055-.649-1.656-.64-.602-1.773-.602zm-1.578-.672q-1.016-.25-1.586-.945-.563-.695-.563-1.695 0-1.399.993-2.211 1-.813 2.734-.813 1.742 0 2.734.813.993.812.993 2.21 0 1-.57 1.696-.563.695-1.571.945 1.14.266 1.773 1.04.641.773.641 1.89 0 1.695-1.04 2.602-1.03.906-2.96.906t-2.969-.906Q6 26.738 6 25.043q0-1.117.64-1.89.641-.774 1.782-1.04zm-.578-2.492q0 .906.562 1.414.57.508 1.594.508 1.016 0 1.586-.508.578-.508.578-1.414 0-.906-.578-1.414-.57-.508-1.586-.508-1.023 0-1.594.508-.562.508-.562 1.414z\" /></g><g transform=\"translate(375, 20) scale(0.75, 0.75)\" fill=\"#e5e5e5\" stroke=\"#e5e5e5\"><path d=\"M10 22.785q-1.125 0-1.773.602-.641.601-.641 1.656t.64 1.656q.649.602 1.774.602t1.773-.602q.649-.61.649-1.656 0-1.055-.649-1.656-.64-.602-1.773-.602zm-1.578-.672q-1.016-.25-1.586-.945-.563-.695-.563-1.695 0-1.399.993-2.211 1-.813 2.734-.813 1.742 0 2.734.813.993.812.993 2.21 0 1-.57 1.696-.563.695-1.571.945 1.14.266 1.773 1.04.641.773.641 1.89 0 1.695-1.04 2.602-1.03.906-2.96.906t-2.969-.906Q6 26.738 6 25.043q0-1.117.64-1.89.641-.774 1.782-1.04zm-.578-2.492q0 .906.562 1.414.57.508 1.594.508 1.016 0 1.586-.508.578-.508.578-1.414 0-.906-.578-1.414-.57-.508-1.586-.508-1.023 0-1.594.508-.562.508-.562 1.414z\" /></g><rect x=\"15\" y=\"330\" width=\"45\" height=\"45\" class=\"square dark a1\" stroke=\"none\" fill=\"#d18b47\" /><rect x=\"60\" y=\"330\" width=\"45\" height=\"45\" class=\"square light b1\" stroke=\"none\" fill=\"#ffce9e\" /><rect x=\"105\" y=\"330\" width=\"45\" height=\"45\" class=\"square dark c1\" stroke=\"none\" fill=\"#d18b47\" /><rect x=\"150\" y=\"330\" width=\"45\" height=\"45\" class=\"square light d1\" stroke=\"none\" fill=\"#ffce9e\" /><rect x=\"195\" y=\"330\" width=\"45\" height=\"45\" class=\"square dark e1\" stroke=\"none\" fill=\"#d18b47\" /><rect x=\"240\" y=\"330\" width=\"45\" height=\"45\" class=\"square light f1\" stroke=\"none\" fill=\"#ffce9e\" /><rect x=\"285\" y=\"330\" width=\"45\" height=\"45\" class=\"square dark g1\" stroke=\"none\" fill=\"#d18b47\" /><rect x=\"330\" y=\"330\" width=\"45\" height=\"45\" class=\"square light lastmove h1\" stroke=\"none\" fill=\"#cdd16a\" /><rect x=\"15\" y=\"285\" width=\"45\" height=\"45\" class=\"square light a2\" stroke=\"none\" fill=\"#ffce9e\" /><rect x=\"60\" y=\"285\" width=\"45\" height=\"45\" class=\"square dark b2\" stroke=\"none\" fill=\"#d18b47\" /><rect x=\"105\" y=\"285\" width=\"45\" height=\"45\" class=\"square light c2\" stroke=\"none\" fill=\"#ffce9e\" /><rect x=\"150\" y=\"285\" width=\"45\" height=\"45\" class=\"square dark d2\" stroke=\"none\" fill=\"#d18b47\" /><rect x=\"195\" y=\"285\" width=\"45\" height=\"45\" class=\"square light e2\" stroke=\"none\" fill=\"#ffce9e\" /><rect x=\"240\" y=\"285\" width=\"45\" height=\"45\" class=\"square dark f2\" stroke=\"none\" fill=\"#d18b47\" /><rect x=\"285\" y=\"285\" width=\"45\" height=\"45\" class=\"square light lastmove g2\" stroke=\"none\" fill=\"#cdd16a\" /><rect x=\"330\" y=\"285\" width=\"45\" height=\"45\" class=\"square dark h2\" stroke=\"none\" fill=\"#d18b47\" /><rect x=\"15\" y=\"240\" width=\"45\" height=\"45\" class=\"square dark a3\" stroke=\"none\" fill=\"#d18b47\" /><rect x=\"60\" y=\"240\" width=\"45\" height=\"45\" class=\"square light b3\" stroke=\"none\" fill=\"#ffce9e\" /><rect x=\"105\" y=\"240\" width=\"45\" height=\"45\" class=\"square dark c3\" stroke=\"none\" fill=\"#d18b47\" /><rect x=\"150\" y=\"240\" width=\"45\" height=\"45\" class=\"square light d3\" stroke=\"none\" fill=\"#ffce9e\" /><rect x=\"195\" y=\"240\" width=\"45\" height=\"45\" class=\"square dark e3\" stroke=\"none\" fill=\"#d18b47\" /><rect x=\"240\" y=\"240\" width=\"45\" height=\"45\" class=\"square light f3\" stroke=\"none\" fill=\"#ffce9e\" /><rect x=\"285\" y=\"240\" width=\"45\" height=\"45\" class=\"square dark g3\" stroke=\"none\" fill=\"#d18b47\" /><rect x=\"330\" y=\"240\" width=\"45\" height=\"45\" class=\"square light h3\" stroke=\"none\" fill=\"#ffce9e\" /><rect x=\"15\" y=\"195\" width=\"45\" height=\"45\" class=\"square light a4\" stroke=\"none\" fill=\"#ffce9e\" /><rect x=\"60\" y=\"195\" width=\"45\" height=\"45\" class=\"square dark b4\" stroke=\"none\" fill=\"#d18b47\" /><rect x=\"105\" y=\"195\" width=\"45\" height=\"45\" class=\"square light c4\" stroke=\"none\" fill=\"#ffce9e\" /><rect x=\"150\" y=\"195\" width=\"45\" height=\"45\" class=\"square dark d4\" stroke=\"none\" fill=\"#d18b47\" /><rect x=\"195\" y=\"195\" width=\"45\" height=\"45\" class=\"square light e4\" stroke=\"none\" fill=\"#ffce9e\" /><rect x=\"240\" y=\"195\" width=\"45\" height=\"45\" class=\"square dark f4\" stroke=\"none\" fill=\"#d18b47\" /><rect x=\"285\" y=\"195\" width=\"45\" height=\"45\" class=\"square light g4\" stroke=\"none\" fill=\"#ffce9e\" /><rect x=\"330\" y=\"195\" width=\"45\" height=\"45\" class=\"square dark h4\" stroke=\"none\" fill=\"#d18b47\" /><rect x=\"15\" y=\"150\" width=\"45\" height=\"45\" class=\"square dark a5\" stroke=\"none\" fill=\"#d18b47\" /><rect x=\"60\" y=\"150\" width=\"45\" height=\"45\" class=\"square light b5\" stroke=\"none\" fill=\"#ffce9e\" /><rect x=\"105\" y=\"150\" width=\"45\" height=\"45\" class=\"square dark c5\" stroke=\"none\" fill=\"#d18b47\" /><rect x=\"150\" y=\"150\" width=\"45\" height=\"45\" class=\"square light d5\" stroke=\"none\" fill=\"#ffce9e\" /><rect x=\"195\" y=\"150\" width=\"45\" height=\"45\" class=\"square dark e5\" stroke=\"none\" fill=\"#d18b47\" /><rect x=\"240\" y=\"150\" width=\"45\" height=\"45\" class=\"square light f5\" stroke=\"none\" fill=\"#ffce9e\" /><rect x=\"285\" y=\"150\" width=\"45\" height=\"45\" class=\"square dark g5\" stroke=\"none\" fill=\"#d18b47\" /><rect x=\"330\" y=\"150\" width=\"45\" height=\"45\" class=\"square light h5\" stroke=\"none\" fill=\"#ffce9e\" /><rect x=\"15\" y=\"105\" width=\"45\" height=\"45\" class=\"square light a6\" stroke=\"none\" fill=\"#ffce9e\" /><rect x=\"60\" y=\"105\" width=\"45\" height=\"45\" class=\"square dark b6\" stroke=\"none\" fill=\"#d18b47\" /><rect x=\"105\" y=\"105\" width=\"45\" height=\"45\" class=\"square light c6\" stroke=\"none\" fill=\"#ffce9e\" /><rect x=\"150\" y=\"105\" width=\"45\" height=\"45\" class=\"square dark d6\" stroke=\"none\" fill=\"#d18b47\" /><rect x=\"195\" y=\"105\" width=\"45\" height=\"45\" class=\"square light e6\" stroke=\"none\" fill=\"#ffce9e\" /><rect x=\"240\" y=\"105\" width=\"45\" height=\"45\" class=\"square dark f6\" stroke=\"none\" fill=\"#d18b47\" /><rect x=\"285\" y=\"105\" width=\"45\" height=\"45\" class=\"square light g6\" stroke=\"none\" fill=\"#ffce9e\" /><rect x=\"330\" y=\"105\" width=\"45\" height=\"45\" class=\"square dark h6\" stroke=\"none\" fill=\"#d18b47\" /><rect x=\"15\" y=\"60\" width=\"45\" height=\"45\" class=\"square dark a7\" stroke=\"none\" fill=\"#d18b47\" /><rect x=\"60\" y=\"60\" width=\"45\" height=\"45\" class=\"square light b7\" stroke=\"none\" fill=\"#ffce9e\" /><rect x=\"105\" y=\"60\" width=\"45\" height=\"45\" class=\"square dark c7\" stroke=\"none\" fill=\"#d18b47\" /><rect x=\"150\" y=\"60\" width=\"45\" height=\"45\" class=\"square light d7\" stroke=\"none\" fill=\"#ffce9e\" /><rect x=\"195\" y=\"60\" width=\"45\" height=\"45\" class=\"square dark e7\" stroke=\"none\" fill=\"#d18b47\" /><rect x=\"240\" y=\"60\" width=\"45\" height=\"45\" class=\"square light f7\" stroke=\"none\" fill=\"#ffce9e\" /><rect x=\"285\" y=\"60\" width=\"45\" height=\"45\" class=\"square dark g7\" stroke=\"none\" fill=\"#d18b47\" /><rect x=\"330\" y=\"60\" width=\"45\" height=\"45\" class=\"square light h7\" stroke=\"none\" fill=\"#ffce9e\" /><rect x=\"15\" y=\"15\" width=\"45\" height=\"45\" class=\"square light a8\" stroke=\"none\" fill=\"#ffce9e\" /><rect x=\"60\" y=\"15\" width=\"45\" height=\"45\" class=\"square dark b8\" stroke=\"none\" fill=\"#d18b47\" /><rect x=\"105\" y=\"15\" width=\"45\" height=\"45\" class=\"square light c8\" stroke=\"none\" fill=\"#ffce9e\" /><rect x=\"150\" y=\"15\" width=\"45\" height=\"45\" class=\"square dark d8\" stroke=\"none\" fill=\"#d18b47\" /><rect x=\"195\" y=\"15\" width=\"45\" height=\"45\" class=\"square light e8\" stroke=\"none\" fill=\"#ffce9e\" /><rect x=\"240\" y=\"15\" width=\"45\" height=\"45\" class=\"square dark f8\" stroke=\"none\" fill=\"#d18b47\" /><rect x=\"285\" y=\"15\" width=\"45\" height=\"45\" class=\"square light g8\" stroke=\"none\" fill=\"#ffce9e\" /><rect x=\"330\" y=\"15\" width=\"45\" height=\"45\" class=\"square dark h8\" stroke=\"none\" fill=\"#d18b47\" /><use href=\"#black-king\" xlink:href=\"#black-king\" transform=\"translate(330, 330)\" /><use href=\"#white-king\" xlink:href=\"#white-king\" transform=\"translate(195, 15)\" /></svg>"
      ],
      "text/plain": [
       "Board('4K3/8/8/8/8/8/8/7k w - - 0 65')"
      ]
     },
     "execution_count": 24,
     "metadata": {},
     "output_type": "execute_result"
    }
   ],
   "source": [
    "board"
   ]
  },
  {
   "cell_type": "code",
   "execution_count": 19,
   "id": "08298bbe",
   "metadata": {},
   "outputs": [
    {
     "data": {
      "text/plain": [
       "['__annotations__',\n",
       " '__class__',\n",
       " '__copy__',\n",
       " '__deepcopy__',\n",
       " '__delattr__',\n",
       " '__dict__',\n",
       " '__dir__',\n",
       " '__doc__',\n",
       " '__eq__',\n",
       " '__format__',\n",
       " '__ge__',\n",
       " '__getattribute__',\n",
       " '__gt__',\n",
       " '__hash__',\n",
       " '__init__',\n",
       " '__init_subclass__',\n",
       " '__le__',\n",
       " '__lt__',\n",
       " '__module__',\n",
       " '__ne__',\n",
       " '__new__',\n",
       " '__reduce__',\n",
       " '__reduce_ex__',\n",
       " '__repr__',\n",
       " '__setattr__',\n",
       " '__sizeof__',\n",
       " '__str__',\n",
       " '__subclasshook__',\n",
       " '__weakref__',\n",
       " '_algebraic',\n",
       " '_algebraic_and_push',\n",
       " '_algebraic_without_suffix',\n",
       " '_attacked_for_king',\n",
       " '_attackers_mask',\n",
       " '_board_state',\n",
       " '_clear_board',\n",
       " '_ep_skewered',\n",
       " '_epd_operations',\n",
       " '_from_chess960',\n",
       " '_generate_evasions',\n",
       " '_is_halfmoves',\n",
       " '_is_safe',\n",
       " '_parse_epd_ops',\n",
       " '_push_capture',\n",
       " '_reduces_castling_rights',\n",
       " '_remove_piece_at',\n",
       " '_repr_svg_',\n",
       " '_reset_board',\n",
       " '_set_board_fen',\n",
       " '_set_castling_fen',\n",
       " '_set_chess960_pos',\n",
       " '_set_piece_at',\n",
       " '_set_piece_map',\n",
       " '_slider_blockers',\n",
       " '_stack',\n",
       " '_to_chess960',\n",
       " '_transposition_key',\n",
       " '_valid_ep_square',\n",
       " 'aliases',\n",
       " 'apply_mirror',\n",
       " 'apply_transform',\n",
       " 'attackers',\n",
       " 'attackers_mask',\n",
       " 'attacks',\n",
       " 'attacks_mask',\n",
       " 'bishops',\n",
       " 'board_fen',\n",
       " 'can_claim_draw',\n",
       " 'can_claim_fifty_moves',\n",
       " 'can_claim_threefold_repetition',\n",
       " 'captures_compulsory',\n",
       " 'castling_rights',\n",
       " 'castling_shredder_fen',\n",
       " 'castling_xfen',\n",
       " 'checkers',\n",
       " 'checkers_mask',\n",
       " 'chess960',\n",
       " 'chess960_pos',\n",
       " 'clean_castling_rights',\n",
       " 'clear',\n",
       " 'clear_board',\n",
       " 'clear_stack',\n",
       " 'color_at',\n",
       " 'connected_kings',\n",
       " 'copy',\n",
       " 'empty',\n",
       " 'ep_square',\n",
       " 'epd',\n",
       " 'fen',\n",
       " 'find_move',\n",
       " 'from_chess960_pos',\n",
       " 'from_epd',\n",
       " 'fullmove_number',\n",
       " 'generate_castling_moves',\n",
       " 'generate_legal_captures',\n",
       " 'generate_legal_ep',\n",
       " 'generate_legal_moves',\n",
       " 'generate_pseudo_legal_captures',\n",
       " 'generate_pseudo_legal_ep',\n",
       " 'generate_pseudo_legal_moves',\n",
       " 'gives_check',\n",
       " 'halfmove_clock',\n",
       " 'has_castling_rights',\n",
       " 'has_chess960_castling_rights',\n",
       " 'has_insufficient_material',\n",
       " 'has_kingside_castling_rights',\n",
       " 'has_legal_en_passant',\n",
       " 'has_pseudo_legal_en_passant',\n",
       " 'has_queenside_castling_rights',\n",
       " 'is_attacked_by',\n",
       " 'is_capture',\n",
       " 'is_castling',\n",
       " 'is_check',\n",
       " 'is_checkmate',\n",
       " 'is_en_passant',\n",
       " 'is_fifty_moves',\n",
       " 'is_fivefold_repetition',\n",
       " 'is_game_over',\n",
       " 'is_insufficient_material',\n",
       " 'is_into_check',\n",
       " 'is_irreversible',\n",
       " 'is_kingside_castling',\n",
       " 'is_legal',\n",
       " 'is_pinned',\n",
       " 'is_pseudo_legal',\n",
       " 'is_queenside_castling',\n",
       " 'is_repetition',\n",
       " 'is_seventyfive_moves',\n",
       " 'is_stalemate',\n",
       " 'is_valid',\n",
       " 'is_variant_draw',\n",
       " 'is_variant_end',\n",
       " 'is_variant_loss',\n",
       " 'is_variant_win',\n",
       " 'is_zeroing',\n",
       " 'king',\n",
       " 'kings',\n",
       " 'knights',\n",
       " 'lan',\n",
       " 'legal_moves',\n",
       " 'mirror',\n",
       " 'move_stack',\n",
       " 'occupied',\n",
       " 'occupied_co',\n",
       " 'one_king',\n",
       " 'outcome',\n",
       " 'parse_san',\n",
       " 'parse_uci',\n",
       " 'parse_xboard',\n",
       " 'pawnless_tbw_magic',\n",
       " 'pawnless_tbw_suffix',\n",
       " 'pawnless_tbz_magic',\n",
       " 'pawnless_tbz_suffix',\n",
       " 'pawns',\n",
       " 'peek',\n",
       " 'piece_at',\n",
       " 'piece_map',\n",
       " 'piece_type_at',\n",
       " 'pieces',\n",
       " 'pieces_mask',\n",
       " 'pin',\n",
       " 'pin_mask',\n",
       " 'ply',\n",
       " 'pop',\n",
       " 'promoted',\n",
       " 'pseudo_legal_moves',\n",
       " 'push',\n",
       " 'push_san',\n",
       " 'push_uci',\n",
       " 'push_xboard',\n",
       " 'queens',\n",
       " 'remove_piece_at',\n",
       " 'reset',\n",
       " 'reset_board',\n",
       " 'result',\n",
       " 'rooks',\n",
       " 'root',\n",
       " 'san',\n",
       " 'san_and_push',\n",
       " 'set_board_fen',\n",
       " 'set_castling_fen',\n",
       " 'set_chess960_pos',\n",
       " 'set_epd',\n",
       " 'set_fen',\n",
       " 'set_piece_at',\n",
       " 'set_piece_map',\n",
       " 'shredder_fen',\n",
       " 'starting_fen',\n",
       " 'status',\n",
       " 'tbw_magic',\n",
       " 'tbw_suffix',\n",
       " 'tbz_magic',\n",
       " 'tbz_suffix',\n",
       " 'transform',\n",
       " 'turn',\n",
       " 'uci',\n",
       " 'uci_variant',\n",
       " 'unicode',\n",
       " 'variation_san',\n",
       " 'was_into_check',\n",
       " 'xboard',\n",
       " 'xboard_variant']"
      ]
     },
     "execution_count": 19,
     "metadata": {},
     "output_type": "execute_result"
    }
   ],
   "source": [
    "dir(board)"
   ]
  },
  {
   "cell_type": "code",
   "execution_count": null,
   "id": "cd3017ed",
   "metadata": {},
   "outputs": [],
   "source": []
  }
 ],
 "metadata": {
  "kernelspec": {
   "display_name": "lc0-env",
   "language": "python",
   "name": "lc0-env"
  },
  "language_info": {
   "codemirror_mode": {
    "name": "ipython",
    "version": 3
   },
   "file_extension": ".py",
   "mimetype": "text/x-python",
   "name": "python",
   "nbconvert_exporter": "python",
   "pygments_lexer": "ipython3",
   "version": "3.9.10"
  }
 },
 "nbformat": 4,
 "nbformat_minor": 5
}
